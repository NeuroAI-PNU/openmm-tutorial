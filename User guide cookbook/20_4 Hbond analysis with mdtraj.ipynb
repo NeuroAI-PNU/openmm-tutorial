{
 "cells": [
  {
   "cell_type": "code",
   "execution_count": 21,
   "metadata": {},
   "outputs": [],
   "source": [
    "from __future__ import print_function\n",
    "from pathlib import Path\n",
    "import itertools\n",
    "import mdtraj as md\n",
    "import mdtraj.testing\n",
    "import matplotlib.pyplot as plt\n",
    "%matplotlib inline"
   ]
  },
  {
   "cell_type": "code",
   "execution_count": 22,
   "metadata": {},
   "outputs": [
    {
     "name": "stdout",
     "output_type": "stream",
     "text": [
      "<mdtraj.Trajectory with 250 frames, 52862 atoms, 16273 residues, and unitcells>\n"
     ]
    }
   ],
   "source": [
    "result_dir = Path(\"./results/EGPR_tutorial\")\n",
    "top = md.load_pdb(str(result_dir / \"3POZ_03P_minimized.pdb\"))\n",
    "t = md.load_xtc(str(result_dir / \"3POZ_03P_3rd_trajectory.xtc\"), top=top.top)\n",
    "print(t)"
   ]
  },
  {
   "cell_type": "code",
   "execution_count": 23,
   "metadata": {},
   "outputs": [
    {
     "data": {
      "text/plain": [
       "(437, 3)"
      ]
     },
     "execution_count": 23,
     "metadata": {},
     "output_type": "execute_result"
    }
   ],
   "source": [
    "hbonds = md.baker_hubbard(t, periodic=False)\n",
    "hbonds.shape"
   ]
  },
  {
   "cell_type": "code",
   "execution_count": 24,
   "metadata": {},
   "outputs": [
    {
     "name": "stdout",
     "output_type": "stream",
     "text": [
      "ALA2-N ALA2-H 2.0\n",
      "ARG5-N ARG5-H 2.0\n"
     ]
    }
   ],
   "source": [
    "print(t.topology.atom(hbonds[0,0]), t.topology.atom(hbonds[0,1]), t.time[0])\n",
    "print(t.topology.atom(hbonds[1,0]), t.topology.atom(hbonds[1,1]), t.time[0])"
   ]
  },
  {
   "cell_type": "code",
   "execution_count": 39,
   "metadata": {},
   "outputs": [
    {
     "name": "stdout",
     "output_type": "stream",
     "text": [
      "55 LYS45-NZ UNK1-O3x\n",
      "112 MET93-N UNK1-N4x\n"
     ]
    }
   ],
   "source": [
    "labels = dict()\n",
    "for i, hbond in enumerate(hbonds):\n",
    "    resname = t.topology.atom(hbond[0]).residue.name\n",
    "    resname2 = t.topology.atom(hbond[2]).residue.name\n",
    "    if resname == \"UNK\" or resname2 == \"UNK\":\n",
    "        if not (resname == \"UNK\" and resname2 == \"UNK\"):\n",
    "            print(i, t.topology.atom(hbond[0]), t.topology.atom(hbond[2]))\n",
    "            labels[str(i)] = f\"{t.topology.atom(hbond[0])}-{t.topology.atom(hbond[2])}\"\n",
    "            "
   ]
  },
  {
   "cell_type": "code",
   "execution_count": 40,
   "metadata": {},
   "outputs": [],
   "source": [
    "da_distances = md.compute_distances(t, hbonds[:, [0, 2]], periodic=False)"
   ]
  },
  {
   "cell_type": "code",
   "execution_count": 43,
   "metadata": {},
   "outputs": [
    {
     "name": "stdout",
     "output_type": "stream",
     "text": [
      "LYS45-NZ-UNK1-O3x 0.46701905\n",
      "MET93-N-UNK1-N4x 0.3164917\n"
     ]
    },
    {
     "data": {
      "image/png": "[encoded data removed]",
      "text/plain": [
       "<Figure size 640x480 with 1 Axes>"
      ]
     },
     "metadata": {},
     "output_type": "display_data"
    }
   ],
   "source": [
    "color = itertools.cycle([\"r\", \"b\"])\n",
    "for i in [55, 112]:\n",
    "    plt.hist(da_distances[:, i], color=next(color), label=labels[str(i)], alpha=0.5)\n",
    "    print(labels[str(i)], da_distances[:, i].mean())\n",
    "plt.legend()\n",
    "plt.ylabel(\"Freq\")\n",
    "plt.xlabel(\"Donor-acceptor distance [nm]\");"
   ]
  },
  {
   "cell_type": "code",
   "execution_count": null,
   "metadata": {},
   "outputs": [],
   "source": []
  },
  {
   "cell_type": "code",
   "execution_count": null,
   "metadata": {},
   "outputs": [],
   "source": []
  },
  {
   "cell_type": "code",
   "execution_count": null,
   "metadata": {},
   "outputs": [],
   "source": []
  },
  {
   "cell_type": "code",
   "execution_count": null,
   "metadata": {},
   "outputs": [],
   "source": []
  }
 ],
 "metadata": {
  "kernelspec": {
   "display_name": "openmm",
   "language": "python",
   "name": "python3"
  },
  "language_info": {
   "codemirror_mode": {
    "name": "ipython",
    "version": 3
   },
   "file_extension": ".py",
   "mimetype": "text/x-python",
   "name": "python",
   "nbconvert_exporter": "python",
   "pygments_lexer": "ipython3",
   "version": "3.10.13"
  }
 },
 "nbformat": 4,
 "nbformat_minor": 2
}
