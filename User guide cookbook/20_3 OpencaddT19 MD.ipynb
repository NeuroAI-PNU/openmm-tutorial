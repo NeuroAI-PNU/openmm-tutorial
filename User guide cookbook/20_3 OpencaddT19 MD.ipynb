{
 "cells": [
  {
   "cell_type": "markdown",
   "metadata": {},
   "source": [
    "## T019 Molecular dynamics simulation\n",
    "* https://projects.volkamerlab.org/teachopencadd/talktorials/T019_md_simulation.html\n",
    "\n",
    "### TOC\n",
    "#### 1. Preparation of complex pbd\n",
    "* Download PDB file\n",
    "* Prepare the protein ligand complex\n",
    "    * Protein preparation\n",
    "    * Ligand preparation\n",
    "    * Merge protein and ligand\n",
    "\n",
    "#### 2. Create system for MD simulation\n",
    "* MD simulation set up\n",
    "    * Force field\n",
    "    * System - protein, ligand, water, ions\n",
    "#### 3. Run MD simulation\n",
    "* Perform the MD simulation\n",
    "* Download results\n",
    "\n",
    "### Some tips\n",
    "* For simulations under periodic boundary conditions, it is recommended to use a simulation box large enough, so that the simulated macromolecule does not come into contact with neighboring images of itself.\n",
    "\n",
    "### Advantage of MD simulation\n",
    "* MD give valuable insights into the highly dynamic process of ligand binding to their target.\n",
    "* ligands may induce conformational changes in the macromolecule that can best accommodate the small molecule.\n",
    "    * binding sites that are not observed in static ligand-free structures, but can be discovered with MD simulations, are sometimes called cryptic binding sites.\n",
    "    * The identification of such binding sites with MD simulation can kickstart new drug discovery campaigns.\n",
    "* Later in the drug discovery process, MD simulations can also be used to estimate the quality of computationally identified small molecules before performing more costly and time-intensive in vitro tests. \n"
   ]
  },
  {
   "cell_type": "code",
   "execution_count": 1,
   "metadata": {},
   "outputs": [
    {
     "data": {
      "application/vnd.jupyter.widget-view+json": {
       "model_id": "efa932d6e065449fa1809bd77cff6fa6",
       "version_major": 2,
       "version_minor": 0
      },
      "text/plain": []
     },
     "metadata": {},
     "output_type": "display_data"
    }
   ],
   "source": [
    "# Load libaries\n",
    "import copy\n",
    "from pathlib import Path\n",
    "\n",
    "import requests\n",
    "from IPython.display import display\n",
    "import numpy as np\n",
    "from rdkit import Chem\n",
    "from rdkit.Chem import Draw\n",
    "from rdkit.Chem import AllChem\n",
    "import mdtraj as md\n",
    "import pdbfixer\n",
    "import nglview as nv\n",
    "import openmm as mm\n",
    "import openmm.app as app\n",
    "from openmm import unit\n",
    "from openff.toolkit.topology import Molecule, Topology\n",
    "from openmmforcefields.generators import GAFFTemplateGenerator\n"
   ]
  },
  {
   "cell_type": "code",
   "execution_count": 2,
   "metadata": {},
   "outputs": [],
   "source": [
    "# create data directory if not exists\n",
    "data_dir = Path(\"./data/EGPR_tutorial\")\n",
    "Path(data_dir).mkdir(parents=True, exist_ok=True)\n",
    "result_dir = Path(\"./results/EGPR_tutorial\")\n",
    "Path(result_dir).mkdir(parents=True, exist_ok=True)"
   ]
  },
  {
   "cell_type": "code",
   "execution_count": 9,
   "metadata": {},
   "outputs": [
    {
     "data": {
      "application/vnd.jupyter.widget-view+json": {
       "model_id": "d9e0ee1d94ef432793a24231bd59179b",
       "version_major": 2,
       "version_minor": 0
      },
      "text/plain": [
       "NGLWidget()"
      ]
     },
     "metadata": {},
     "output_type": "display_data"
    }
   ],
   "source": [
    "\n",
    "pdbid = \"3POZ\" # EGFR kinase domain\n",
    "ligand_name = \"03P\"\n",
    "# check the complex structure\n",
    "solvated_model_path = str(result_dir / f\"{pdbid}_{ligand_name}_solvated.pdb\")\n",
    "solvated_view = nv.show_structure_file(solvated_model_path)\n",
    "solvated_view.add_representation(\"cartoon\", selection=\"protein\")\n",
    "solvated_view.add_representation(\"licorice\", selection=\"water\")\n",
    "solvated_view.add_representation(\"ball+stick\", selection=\"ligand\")\n",
    "solvated_view.add_representation(\"spacefill\", selection=\"ion\")\n",
    "#solvated_view.add_representation(\"unitcell\")\n",
    "solvated_view.camera = \"orthographic\"\n",
    "solvated_view"
   ]
  },
  {
   "cell_type": "code",
   "execution_count": 10,
   "metadata": {},
   "outputs": [],
   "source": [
    "# Load the solvated structure using OpenMM\n",
    "solvated_model = app.PDBFile(solvated_model_path)\n",
    "model_topology = solvated_model.topology\n",
    "model_positions = solvated_model.positions"
   ]
  },
  {
   "cell_type": "code",
   "execution_count": 11,
   "metadata": {},
   "outputs": [
    {
     "name": "stdout",
     "output_type": "stream",
     "text": [
      "Number of atoms in the system: 52862\n"
     ]
    }
   ],
   "source": [
    "print(\"Number of atoms in the system:\", model_topology.getNumAtoms())"
   ]
  },
  {
   "cell_type": "markdown",
   "metadata": {},
   "source": [
    "### System\n",
    "* The chosen Langevin Integrator uses Langevin equations. \n",
    "* A list of all different kinds of integrators can be found in the [OpenMM Docs](http://docs.openmm.org/development/api-python/library.html#integrators). \n",
    "* For further insight into the Langevin Integrator, we recommend reading about Langevin equations, e.g. on [Wikipedia](https://en.wikipedia.org/wiki/Langevin_equation)."
   ]
  },
  {
   "cell_type": "code",
   "execution_count": 12,
   "metadata": {},
   "outputs": [],
   "source": [
    "def generate_forcefield(\n",
    "    rdkit_mol=None, protein_ff=\"amber14-all.xml\", solvent_ff=\"amber14/tip3pfb.xml\"\n",
    "):\n",
    "    \"\"\"\n",
    "    Generate an OpenMM Forcefield object and register a small molecule.\n",
    "\n",
    "    Parameters\n",
    "    ----------\n",
    "    rdkit_mol: rdkit.Chem.rdchem.Mol\n",
    "        Small molecule to register in the force field.\n",
    "    protein_ff: string\n",
    "        Name of the force field.\n",
    "    solvent_ff: string\n",
    "        Name of the solvent force field.\n",
    "\n",
    "    Returns\n",
    "    -------\n",
    "    forcefield: openmm.app.Forcefield\n",
    "        Forcefield with registered small molecule.\n",
    "    \"\"\"\n",
    "    forcefield = app.ForceField(protein_ff, solvent_ff)\n",
    "\n",
    "    if rdkit_mol is not None:\n",
    "        gaff = GAFFTemplateGenerator(\n",
    "            molecules=Molecule.from_rdkit(rdkit_mol, allow_undefined_stereo=True)\n",
    "        )\n",
    "        forcefield.registerTemplateGenerator(gaff.generator)\n",
    "\n",
    "    return forcefield"
   ]
  },
  {
   "cell_type": "code",
   "execution_count": 13,
   "metadata": {},
   "outputs": [],
   "source": [
    "rcsb_ligand = Chem.MolFromMolFile(str(result_dir / f\"{ligand_name}_prepared.mol\"))\n",
    "forcefield = generate_forcefield(rcsb_ligand)"
   ]
  },
  {
   "cell_type": "code",
   "execution_count": 16,
   "metadata": {},
   "outputs": [],
   "source": [
    "system = forcefield.createSystem(model_topology, nonbondedMethod=app.PME,\n",
    "            nonbondedCutoff=1.0*unit.nanometers, constraints=app.HBonds, rigidWater=True,\n",
    "            ewaldErrorTolerance=0.0005)\n",
    "integrator = mm.LangevinIntegrator(\n",
    "    300 * unit.kelvin, 1.0 / unit.picoseconds, 2.0 * unit.femtoseconds\n",
    ")\n",
    "integrator.setConstraintTolerance(0.00001)\n",
    "platform = mm.Platform.getPlatformByName(\"CUDA\")\n",
    "simulation = app.Simulation(model_topology, system, integrator, platform)\n",
    "simulation.context.setPositions(model_positions)"
   ]
  },
  {
   "cell_type": "code",
   "execution_count": 17,
   "metadata": {},
   "outputs": [
    {
     "name": "stdout",
     "output_type": "stream",
     "text": [
      "Minimizing...\n"
     ]
    }
   ],
   "source": [
    "# minimize\n",
    "print('Minimizing...')\n",
    "simulation.minimizeEnergy()"
   ]
  },
  {
   "cell_type": "code",
   "execution_count": 18,
   "metadata": {},
   "outputs": [
    {
     "name": "stdout",
     "output_type": "stream",
     "text": [
      "Equilibrating...\n"
     ]
    }
   ],
   "source": [
    "# equilibrate for 100 steps\n",
    "simulation.context.setVelocitiesToTemperature(300*unit.kelvin)\n",
    "print('Equilibrating...')\n",
    "simulation.step(100)"
   ]
  },
  {
   "cell_type": "code",
   "execution_count": 19,
   "metadata": {},
   "outputs": [],
   "source": [
    "# append reporters\n",
    "simulation.reporters.append(app.DCDReporter(str(result_dir / f\"{pdbid}_{ligand_name}_solvated.dcd\"), 1000))\n",
    "simulation.reporters.append(app.StateDataReporter(str(result_dir / f\"{pdbid}_{ligand_name}_solvated.csv\"), 1000,\n",
    "        step=True, potentialEnergy=True, temperature=True, progress=True, remainingTime=True, speed=True, totalSteps=250000, separator=','))"
   ]
  },
  {
   "cell_type": "code",
   "execution_count": 20,
   "metadata": {},
   "outputs": [
    {
     "name": "stdout",
     "output_type": "stream",
     "text": [
      "Running Production...\n",
      "Done!\n"
     ]
    }
   ],
   "source": [
    "# run 0.5 ns of production simulation, it takes about 7 min\n",
    "# for 50 ns, it takes about 12 hrs\n",
    "print('Running Production...')\n",
    "simulation.step(250000)\n",
    "print('Done!')"
   ]
  },
  {
   "cell_type": "code",
   "execution_count": null,
   "metadata": {},
   "outputs": [],
   "source": []
  },
  {
   "cell_type": "code",
   "execution_count": null,
   "metadata": {},
   "outputs": [],
   "source": []
  },
  {
   "cell_type": "code",
   "execution_count": null,
   "metadata": {},
   "outputs": [],
   "source": []
  },
  {
   "cell_type": "code",
   "execution_count": null,
   "metadata": {},
   "outputs": [],
   "source": []
  }
 ],
 "metadata": {
  "kernelspec": {
   "display_name": "openmm",
   "language": "python",
   "name": "python3"
  },
  "language_info": {
   "codemirror_mode": {
    "name": "ipython",
    "version": 3
   },
   "file_extension": ".py",
   "mimetype": "text/x-python",
   "name": "python",
   "nbconvert_exporter": "python",
   "pygments_lexer": "ipython3",
   "version": "3.10.13"
  }
 },
 "nbformat": 4,
 "nbformat_minor": 2
}
