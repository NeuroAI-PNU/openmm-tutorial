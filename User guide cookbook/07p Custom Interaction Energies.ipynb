{
 "cells": [
  {
   "cell_type": "markdown",
   "metadata": {},
   "source": [
    "## Compute Interaction Energies\n",
    "* https://openmm.github.io/openmm-cookbook/latest/notebooks/cookbook/Computing%20Interaction%20Energies.html\n",
    "* compute the interaction energy between two molecules\n"
   ]
  },
  {
   "cell_type": "code",
   "execution_count": 71,
   "metadata": {},
   "outputs": [],
   "source": [
    "from openmm import *\n",
    "from openmm.app import *\n",
    "from openmm.unit import *"
   ]
  },
  {
   "cell_type": "code",
   "execution_count": 72,
   "metadata": {},
   "outputs": [],
   "source": [
    "pdb = PDBFile('./results/merged_H.pdb')\n",
    "forcefield = ForceField('amber14-all.xml', 'amber14/tip3pfb.xml')\n",
    "system = forcefield.createSystem(pdb.topology, nonbondedMethod=PME, nonbondedCutoff=1*nanometer, constraints=HBonds)"
   ]
  },
  {
   "cell_type": "code",
   "execution_count": 73,
   "metadata": {},
   "outputs": [],
   "source": [
    "for i in pdb.topology.chains():\n",
    "    if i.index == 0:\n",
    "        solvent = set([j.index for j in i.atoms() if j.residue.name in ('HOH', 'Cl', 'Na')])\n",
    "        villin = set([j.index for j in i.atoms() if j.index not in solvent])\n",
    "    else:\n",
    "        ala = set([j.index for j in i.atoms()])"
   ]
  },
  {
   "cell_type": "code",
   "execution_count": 74,
   "metadata": {},
   "outputs": [
    {
     "data": {
      "text/plain": [
       "8285"
      ]
     },
     "execution_count": 74,
     "metadata": {},
     "output_type": "execute_result"
    }
   ],
   "source": [
    "len(solvent)"
   ]
  },
  {
   "cell_type": "code",
   "execution_count": 75,
   "metadata": {},
   "outputs": [
    {
     "data": {
      "text/plain": [
       "582"
      ]
     },
     "execution_count": 75,
     "metadata": {},
     "output_type": "execute_result"
    }
   ],
   "source": [
    "len(villin)"
   ]
  },
  {
   "cell_type": "code",
   "execution_count": 76,
   "metadata": {},
   "outputs": [
    {
     "data": {
      "text/plain": [
       "33"
      ]
     },
     "execution_count": 76,
     "metadata": {},
     "output_type": "execute_result"
    }
   ],
   "source": [
    "len(ala)"
   ]
  },
  {
   "cell_type": "code",
   "execution_count": 77,
   "metadata": {},
   "outputs": [],
   "source": [
    "for force in system.getForces():\n",
    "    if isinstance(force, NonbondedForce):\n",
    "        force.setForceGroup(0)\n",
    "        force.addGlobalParameter(\"villin_coulomb_scale\", 1)\n",
    "        force.addGlobalParameter(\"villin_lj_scale\", 1)\n",
    "        force.addGlobalParameter(\"ala_coulomb_scale\", 1)\n",
    "        force.addGlobalParameter(\"ala_lj_scale\", 1)\n",
    "        force.addGlobalParameter(\"solvent_coulomb_scale\", 1)\n",
    "        force.addGlobalParameter(\"solvent_lj_scale\", 1)\n",
    "        for i in range(force.getNumParticles()):\n",
    "            charge, sigma, epsilon = force.getParticleParameters(i)\n",
    "            force.setParticleParameters(i, 0, 0, 0)\n",
    "            if i in villin:\n",
    "                force.addParticleParameterOffset(\"villin_coulomb_scale\", i, charge, 0, 0)\n",
    "                force.addParticleParameterOffset(\"villin_lj_scale\", i, 0, sigma, epsilon)\n",
    "            elif i in ala:\n",
    "                force.addParticleParameterOffset(\"ala_coulomb_scale\", i, charge, 0, 0)\n",
    "                force.addParticleParameterOffset(\"ala_lj_scale\", i, 0, sigma, epsilon)\n",
    "            elif i in solvent:\n",
    "                force.addParticleParameterOffset(\"solvent_coulomb_scale\", i, charge, 0, 0)\n",
    "                force.addParticleParameterOffset(\"solvent_lj_scale\", i, 0, sigma, epsilon)\n",
    "        for i in range(force.getNumExceptions()):\n",
    "            p1, p2, chargeProd, sigma, epsilon = force.getExceptionParameters(i)\n",
    "            force.setExceptionParameters(i, p1, p2, 0, 0, 0)\n",
    "    else:\n",
    "        force.setForceGroup(2)"
   ]
  },
  {
   "cell_type": "code",
   "execution_count": 78,
   "metadata": {},
   "outputs": [
    {
     "name": "stdout",
     "output_type": "stream",
     "text": [
      "Coulomb interaction energy: -6572.898544378346 kJ/mol\n",
      "LJ interaction energy: 17088695530097.352 kJ/mol\n"
     ]
    }
   ],
   "source": [
    "integrator = VerletIntegrator(0.001*picosecond)\n",
    "context = Context(system, integrator)\n",
    "context.setPositions(pdb.positions)\n",
    "\n",
    "def energy(villin_coulomb_scale, villin_lj_scale, ala_coulomb_scale, ala_lj_scale, solvent_coulomb_scale, solvent_lj_scale):\n",
    "    context.setParameter(\"villin_coulomb_scale\", villin_coulomb_scale)\n",
    "    context.setParameter(\"villin_lj_scale\", villin_lj_scale)\n",
    "    context.setParameter(\"ala_coulomb_scale\", ala_coulomb_scale)\n",
    "    context.setParameter(\"ala_lj_scale\", ala_lj_scale)\n",
    "    context.setParameter(\"solvent_coulomb_scale\", solvent_coulomb_scale)\n",
    "    context.setParameter(\"solvent_lj_scale\", solvent_lj_scale)\n",
    "    return context.getState(getEnergy=True, groups={0}).getPotentialEnergy()\n",
    "\n",
    "total_coulomb = energy(1, 0, 1, 0, 1, 0)\n",
    "villin_coulomb = energy(1, 0, 0, 0, 0, 0)\n",
    "ala_coulomb = energy(0, 0, 1, 0, 0, 0)\n",
    "sol_coulomb = energy(0, 0, 0, 0, 1, 0)\n",
    "total_lj = energy(0, 1, 0, 1, 0, 1)\n",
    "villin_lj = energy(0, 1, 0, 0, 0, 0)\n",
    "ala_lj = energy(0, 0, 0, 1, 0, 0)\n",
    "sol_lj = energy(0, 0, 0, 0, 0, 1)\n",
    "print('Coulomb interaction energy:', total_coulomb - villin_coulomb - ala_coulomb-sol_coulomb)\n",
    "print('LJ interaction energy:', total_lj - villin_lj - ala_lj - sol_lj)"
   ]
  },
  {
   "cell_type": "code",
   "execution_count": 79,
   "metadata": {},
   "outputs": [],
   "source": [
    "for force in system.getForces():\n",
    "    if isinstance(force, NonbondedForce):\n",
    "        force.setForceGroup(0)\n",
    "        force.addGlobalParameter(\"villin_scale\", 1)\n",
    "        force.addGlobalParameter(\"ala_scale\", 1)\n",
    "        force.addGlobalParameter(\"solvent_scale\", 1)\n",
    "        for i in range(force.getNumParticles()):\n",
    "            charge, sigma, epsilon = force.getParticleParameters(i)\n",
    "            force.setParticleParameters(i, 0, 0, 0)\n",
    "            if i in villin:\n",
    "                force.addParticleParameterOffset(\"villin_scale\", i, charge, sigma, epsilon)\n",
    "            elif i in ala:\n",
    "                force.addParticleParameterOffset(\"ala_scale\", i, charge, sigma, epsilon)\n",
    "            elif i in solvent:\n",
    "                force.addParticleParameterOffset(\"solvent_scale\", i, charge, sigma, epsilon)\n",
    "        for i in range(force.getNumExceptions()):\n",
    "            p1, p2, chargeProd, sigma, epsilon = force.getExceptionParameters(i)\n",
    "            force.setExceptionParameters(i, p1, p2, 0, 0, 0)\n",
    "    else:\n",
    "        force.setForceGroup(2)"
   ]
  },
  {
   "cell_type": "code",
   "execution_count": 80,
   "metadata": {},
   "outputs": [
    {
     "name": "stdout",
     "output_type": "stream",
     "text": [
      "Total energy: 17088695691278.877 kJ/mol\n",
      "Villin energy: 17088695691278.877 kJ/mol\n",
      "Ala energy: 17088695691278.877 kJ/mol\n",
      "Solvent energy: 17088695691278.877 kJ/mol\n",
      "Interaction energy: -34177391382557.754 kJ/mol\n"
     ]
    }
   ],
   "source": [
    "integrator = VerletIntegrator(0.001*picosecond)\n",
    "context = Context(system, integrator)\n",
    "context.setPositions(pdb.positions)\n",
    "\n",
    "def energy(villin_scale, ala_scale, solvent_scale):\n",
    "    context.setParameter(\"villin_scale\", villin_scale)\n",
    "    context.setParameter(\"ala_scale\", ala_scale)\n",
    "    context.setParameter(\"solvent_scale\", solvent_scale)\n",
    "    return context.getState(getEnergy=True, groups={0}).getPotentialEnergy()\n",
    "\n",
    "total = energy(1, 1, 1)\n",
    "villin = energy(1, 0, 0)\n",
    "ala = energy(0, 1, 0)\n",
    "solvent = energy(0, 0, 1)\n",
    "\n",
    "print('Total energy:', total)\n",
    "print('Villin energy:', villin)\n",
    "print('Ala energy:', ala)\n",
    "print('Solvent energy:', solvent)\n",
    "print('Interaction energy:', total - villin - ala - solvent)\n"
   ]
  },
  {
   "cell_type": "code",
   "execution_count": null,
   "metadata": {},
   "outputs": [],
   "source": []
  },
  {
   "cell_type": "code",
   "execution_count": null,
   "metadata": {},
   "outputs": [],
   "source": []
  },
  {
   "cell_type": "code",
   "execution_count": null,
   "metadata": {},
   "outputs": [],
   "source": []
  },
  {
   "cell_type": "code",
   "execution_count": null,
   "metadata": {},
   "outputs": [],
   "source": []
  },
  {
   "cell_type": "code",
   "execution_count": null,
   "metadata": {},
   "outputs": [],
   "source": []
  },
  {
   "cell_type": "code",
   "execution_count": null,
   "metadata": {},
   "outputs": [],
   "source": []
  },
  {
   "cell_type": "code",
   "execution_count": null,
   "metadata": {},
   "outputs": [],
   "source": []
  },
  {
   "cell_type": "code",
   "execution_count": null,
   "metadata": {},
   "outputs": [],
   "source": []
  },
  {
   "cell_type": "code",
   "execution_count": null,
   "metadata": {},
   "outputs": [],
   "source": []
  },
  {
   "cell_type": "code",
   "execution_count": null,
   "metadata": {},
   "outputs": [],
   "source": []
  },
  {
   "cell_type": "code",
   "execution_count": null,
   "metadata": {},
   "outputs": [],
   "source": []
  },
  {
   "cell_type": "code",
   "execution_count": null,
   "metadata": {},
   "outputs": [],
   "source": []
  },
  {
   "cell_type": "code",
   "execution_count": null,
   "metadata": {},
   "outputs": [],
   "source": []
  },
  {
   "cell_type": "code",
   "execution_count": null,
   "metadata": {},
   "outputs": [],
   "source": []
  },
  {
   "cell_type": "code",
   "execution_count": null,
   "metadata": {},
   "outputs": [],
   "source": []
  },
  {
   "cell_type": "code",
   "execution_count": null,
   "metadata": {},
   "outputs": [],
   "source": []
  },
  {
   "cell_type": "code",
   "execution_count": null,
   "metadata": {},
   "outputs": [],
   "source": []
  }
 ],
 "metadata": {
  "kernelspec": {
   "display_name": "openmm",
   "language": "python",
   "name": "python3"
  },
  "language_info": {
   "codemirror_mode": {
    "name": "ipython",
    "version": 3
   },
   "file_extension": ".py",
   "mimetype": "text/x-python",
   "name": "python",
   "nbconvert_exporter": "python",
   "pygments_lexer": "ipython3",
   "version": "3.10.13"
  }
 },
 "nbformat": 4,
 "nbformat_minor": 2
}
