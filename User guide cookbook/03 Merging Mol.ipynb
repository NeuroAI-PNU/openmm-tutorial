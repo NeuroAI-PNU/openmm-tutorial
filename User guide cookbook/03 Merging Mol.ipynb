{
 "cells": [
  {
   "cell_type": "code",
   "execution_count": 7,
   "metadata": {},
   "outputs": [
    {
     "data": {
      "application/vnd.jupyter.widget-view+json": {
       "model_id": "68738a1ad49442fdb611c6e96622406e",
       "version_major": 2,
       "version_minor": 0
      },
      "text/plain": []
     },
     "metadata": {},
     "output_type": "display_data"
    }
   ],
   "source": [
    "# https://openmm.github.io/openmm-cookbook/latest/notebooks/cookbook/Merging%20Molecules.html\n",
    "\n",
    "from openmm.app import *\n",
    "import nglview as nv\n",
    "\n",
    "pdb1 = PDBFile('./data/villin.pdb')\n",
    "pdb2 = PDBFile('./data/ala_ala_ala.pdb')\n"
   ]
  },
  {
   "cell_type": "code",
   "execution_count": 5,
   "metadata": {},
   "outputs": [
    {
     "name": "stdout",
     "output_type": "stream",
     "text": [
      "<Topology; 1 chains, 2798 residues, 8867 atoms, 6111 bonds>\n"
     ]
    }
   ],
   "source": [
    "print(pdb1.topology)"
   ]
  },
  {
   "cell_type": "code",
   "execution_count": 6,
   "metadata": {},
   "outputs": [
    {
     "name": "stdout",
     "output_type": "stream",
     "text": [
      "<Topology; 1 chains, 3 residues, 33 atoms, 32 bonds>\n"
     ]
    }
   ],
   "source": [
    "print(pdb2.topology)"
   ]
  },
  {
   "cell_type": "code",
   "execution_count": 8,
   "metadata": {},
   "outputs": [
    {
     "data": {
      "application/vnd.jupyter.widget-view+json": {
       "model_id": "d1b6e56eca54416db32033e866bc132a",
       "version_major": 2,
       "version_minor": 0
      },
      "text/plain": [
       "NGLWidget()"
      ]
     },
     "metadata": {},
     "output_type": "display_data"
    }
   ],
   "source": [
    "nv.show_structure_file('./data/villin.pdb')"
   ]
  },
  {
   "cell_type": "code",
   "execution_count": 9,
   "metadata": {},
   "outputs": [
    {
     "data": {
      "application/vnd.jupyter.widget-view+json": {
       "model_id": "b96d6bf06fc549f1a207c5cf1ce8b5ad",
       "version_major": 2,
       "version_minor": 0
      },
      "text/plain": [
       "NGLWidget()"
      ]
     },
     "metadata": {},
     "output_type": "display_data"
    }
   ],
   "source": [
    "nv.show_structure_file('./data/ala_ala_ala.pdb')"
   ]
  },
  {
   "cell_type": "code",
   "execution_count": 10,
   "metadata": {},
   "outputs": [],
   "source": [
    "\n",
    "modeller = Modeller(pdb1.topology, pdb1.positions)\n",
    "modeller.add(pdb2.topology, pdb2.positions)\n",
    "#mergedTopology = modeller.topology\n",
    "#mergedPositions = modeller.positions\n",
    "\n",
    "#print(mergedTopology)\n",
    "#print(mergedPositions)"
   ]
  },
  {
   "cell_type": "code",
   "execution_count": 11,
   "metadata": {},
   "outputs": [
    {
     "data": {
      "text/plain": [
       "<Topology; 2 chains, 2801 residues, 8900 atoms, 6143 bonds>"
      ]
     },
     "execution_count": 11,
     "metadata": {},
     "output_type": "execute_result"
    }
   ],
   "source": [
    "modeller.topology"
   ]
  },
  {
   "cell_type": "code",
   "execution_count": 13,
   "metadata": {},
   "outputs": [],
   "source": [
    "with open('./results/merged.pdb', 'w') as f:\n",
    "    PDBFile.writeFile(modeller.topology, modeller.positions, f)"
   ]
  },
  {
   "cell_type": "code",
   "execution_count": 38,
   "metadata": {},
   "outputs": [
    {
     "data": {
      "application/vnd.jupyter.widget-view+json": {
       "model_id": "872550591b2946b79029eaed7d380c28",
       "version_major": 2,
       "version_minor": 0
      },
      "text/plain": [
       "NGLWidget()"
      ]
     },
     "metadata": {},
     "output_type": "display_data"
    }
   ],
   "source": [
    "#pdb3 = PDBFile('./results/merged.pdb')\n",
    "merged_view = nv.show_structure_file('./results/merged.pdb')\n",
    "#merged_view.representation = 'cartoon'\n",
    "merged_view.add_representation('licorice', selection='not protein')\n",
    "merged_view.add_representation('spacefill', selection='protein')\n",
    "merged_view\n",
    "#nv.show_structure_file('./results/merged.pdb')"
   ]
  },
  {
   "cell_type": "markdown",
   "metadata": {},
   "source": [
    "## 4 Hydrogen atoms\n",
    "\n",
    "### Adding Hydrogens to Nonstandard Molecules\n",
    "* https://openmm.github.io/openmm-cookbook/latest/notebooks/cookbook/Adding%20Hydrogens%20to%20Nonstandard%20Molecules.html\n",
    "* Modeller.addHydrogens() can be used to add missing hydrogens to standard molecules, like proteins and nucleic acids. But what if you need to simulate something it doesn’t know about, such as a drug molecule or a non-natural amino acid? It can also handle this case, but you need to give it some help.\n",
    "\n",
    "* Start by creating an XML file describing the molecule or molecules. Here is an example of a file defining hydrogens for NLN, a modified ASN residue that is missing a hydrogen and can have a glycan bonded to it. (This example is taken from the glycam-hydrogens.xml file that is bundled with OpenMM. You would not actually need to define this particular residue yourself.)"
   ]
  },
  {
   "cell_type": "code",
   "execution_count": 41,
   "metadata": {
    "vscode": {
     "languageId": "xml"
    }
   },
   "outputs": [
    {
     "data": {
      "text/plain": [
       "'\\'# MyHydrogen.xml\\n<Residues>\\n  <Residue name=\"NLN\">\\n    <H name=\"H\" parent=\"N\" terminal=\"-C\"/>\\n    <H name=\"H1\" parent=\"N\" terminal=\"N\"/>\\n    <H name=\"H2\" parent=\"N\" terminal=\"N\"/>\\n    <H name=\"H3\" parent=\"N\" terminal=\"N\"/>\\n    <H name=\"HA\" parent=\"CA\"/>\\n    <H name=\"HB2\" parent=\"CB\"/>\\n    <H name=\"HB3\" parent=\"CB\"/>\\n    <H name=\"HD21\" parent=\"ND2\"/>\\n  </Residue>\\n</Residues>\\n'"
      ]
     },
     "execution_count": 41,
     "metadata": {},
     "output_type": "execute_result"
    }
   ],
   "source": [
    "''''# MyHydrogen.xml\n",
    "<Residues>\n",
    "  <Residue name=\"NLN\">\n",
    "    <H name=\"H\" parent=\"N\" terminal=\"-C\"/>\n",
    "    <H name=\"H1\" parent=\"N\" terminal=\"N\"/>\n",
    "    <H name=\"H2\" parent=\"N\" terminal=\"N\"/>\n",
    "    <H name=\"H3\" parent=\"N\" terminal=\"N\"/>\n",
    "    <H name=\"HA\" parent=\"CA\"/>\n",
    "    <H name=\"HB2\" parent=\"CB\"/>\n",
    "    <H name=\"HB3\" parent=\"CB\"/>\n",
    "    <H name=\"HD21\" parent=\"ND2\"/>\n",
    "  </Residue>\n",
    "</Residues>\n",
    "'''"
   ]
  },
  {
   "cell_type": "markdown",
   "metadata": {},
   "source": [
    "* There is one <Residue> tag for every residue you want to define.\n",
    "\n",
    "* It contains one <H> tag for every hydrogen that can appear in the residue.\n",
    "\n",
    "* 'parent' is the name of the heavy atom the hydrogen is bonded to.\n",
    "\n",
    "* All atom and residue names must exactly match the names present in your Topology.\n",
    "\n",
    "* For terminal argument:\n",
    "    * The optional terminal attribute indicates hydrogens that might or might not be present, depending on the residue’s position in the chain. It should contain one or more of the characters “N”, “C”, and “-”. \n",
    "    * “N” indicates the hydrogen should be added to N-terminal residues. \n",
    "    * “C” indicates it should be added to C-terminal ones. \n",
    "    * “-” indicates it should be added to residues that are not at either end of the chain."
   ]
  },
  {
   "cell_type": "code",
   "execution_count": 43,
   "metadata": {},
   "outputs": [],
   "source": [
    "Modeller.loadHydrogenDefinitions('./data/MyHydrogen.xml')"
   ]
  },
  {
   "cell_type": "code",
   "execution_count": 44,
   "metadata": {},
   "outputs": [],
   "source": [
    "modeller = Modeller(pdb1.topology, pdb1.positions)\n",
    "modeller.add(pdb2.topology, pdb2.positions)\n",
    "mergedTopology = modeller.topology\n",
    "mergedPositions = modeller.positions"
   ]
  },
  {
   "cell_type": "code",
   "execution_count": 45,
   "metadata": {},
   "outputs": [],
   "source": [
    "with open('./results/merged_H.pdb', 'w') as f:\n",
    "    PDBFile.writeFile(mergedTopology, mergedPositions, f)"
   ]
  },
  {
   "cell_type": "code",
   "execution_count": 46,
   "metadata": {},
   "outputs": [
    {
     "data": {
      "application/vnd.jupyter.widget-view+json": {
       "model_id": "45a9568317024ae99257b2034bf3bf6e",
       "version_major": 2,
       "version_minor": 0
      },
      "text/plain": [
       "NGLWidget()"
      ]
     },
     "metadata": {},
     "output_type": "display_data"
    }
   ],
   "source": [
    "\n",
    "merged_H_view = nv.show_structure_file('./results/merged_H.pdb')\n",
    "#merged_view.representation = 'cartoon'\n",
    "merged_H_view.add_representation('licorice', selection='not protein')\n",
    "merged_H_view.add_representation('spacefill', selection='protein')\n",
    "merged_H_view\n",
    "#nv.show_structure_file('./results/merged.pdb')"
   ]
  },
  {
   "cell_type": "markdown",
   "metadata": {},
   "source": []
  },
  {
   "cell_type": "markdown",
   "metadata": {},
   "source": []
  },
  {
   "cell_type": "code",
   "execution_count": null,
   "metadata": {},
   "outputs": [],
   "source": []
  },
  {
   "cell_type": "code",
   "execution_count": null,
   "metadata": {},
   "outputs": [],
   "source": []
  },
  {
   "cell_type": "code",
   "execution_count": null,
   "metadata": {},
   "outputs": [],
   "source": []
  },
  {
   "cell_type": "code",
   "execution_count": null,
   "metadata": {},
   "outputs": [],
   "source": []
  }
 ],
 "metadata": {
  "kernelspec": {
   "display_name": "openmm",
   "language": "python",
   "name": "python3"
  },
  "language_info": {
   "codemirror_mode": {
    "name": "ipython",
    "version": 3
   },
   "file_extension": ".py",
   "mimetype": "text/x-python",
   "name": "python",
   "nbconvert_exporter": "python",
   "pygments_lexer": "ipython3",
   "version": "3.10.13"
  }
 },
 "nbformat": 4,
 "nbformat_minor": 2
}
