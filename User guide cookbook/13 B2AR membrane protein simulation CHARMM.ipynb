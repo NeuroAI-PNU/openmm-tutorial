{
 "cells": [
  {
   "cell_type": "markdown",
   "metadata": {},
   "source": [
    "## Beta-2-adrenergic receptor (B2AR) membrane protein simulation with CHARMM\n",
    "* https://openmm.github.io/openmm-cookbook/latest/notebooks/tutorials/Beta_2_adrenergic_receptor_B2AR_membrane_protein_simulation_with_CHARMM.html"
   ]
  },
  {
   "cell_type": "code",
   "execution_count": 4,
   "metadata": {},
   "outputs": [],
   "source": [
    "# download and extract the files\n",
    "# you need to de-comment the lines to run the code for the first time\n",
    "#!wget https://openmm.org/tutorials_/b2ar_membrane/files/charmm-gui.zip -O ./data/charmm-gui.zip\n",
    "#!tar xvf ./data/charmm-gui.zip -C ./data"
   ]
  },
  {
   "cell_type": "code",
   "execution_count": 9,
   "metadata": {},
   "outputs": [
    {
     "data": {
      "application/vnd.jupyter.widget-view+json": {
       "model_id": "bb1e362209264f10b88be15f68a420bd",
       "version_major": 2,
       "version_minor": 0
      },
      "text/plain": []
     },
     "metadata": {},
     "output_type": "display_data"
    }
   ],
   "source": [
    "from openmm.app import *\n",
    "from openmm import *\n",
    "from openmm.unit import *\n",
    "import nglview as nv\n",
    "from sys import stdout"
   ]
  },
  {
   "cell_type": "code",
   "execution_count": 7,
   "metadata": {},
   "outputs": [],
   "source": [
    "# Load the CHARMM files\n",
    "psf = CharmmPsfFile('./data/charmm-gui/openmm/step5_charmm2omm.psf')\n",
    "pdb = PDBFile('./data/charmm-gui/openmm/step5_charmm2omm.pdb')\n",
    "params = CharmmParameterSet('./data/charmm-gui/toppar/par_all36_prot.prm',\n",
    "                            './data/charmm-gui/toppar/top_all36_prot.rtf',\n",
    "                            './data/charmm-gui/toppar/par_all36_lipid.prm',\n",
    "                            './data/charmm-gui/toppar/top_all36_lipid.rtf',\n",
    "                            './data/charmm-gui/toppar/toppar_water_ions.str')"
   ]
  },
  {
   "cell_type": "code",
   "execution_count": 8,
   "metadata": {},
   "outputs": [],
   "source": [
    "\n",
    "# Create an openmm system by calling createSystem on psf\n",
    "system = psf.createSystem(params, nonbondedMethod=CutoffNonPeriodic,\n",
    "         nonbondedCutoff=1*nanometer, constraints=HBonds)\n",
    "integrator = LangevinIntegrator(300*kelvin,   # Temperature of head bath\n",
    "                                1/picosecond, # Friction coefficient\n",
    "                                0.002*picoseconds) # Time step\n"
   ]
  },
  {
   "cell_type": "code",
   "execution_count": 18,
   "metadata": {},
   "outputs": [
    {
     "data": {
      "application/vnd.jupyter.widget-view+json": {
       "model_id": "eeea335b84494494915c50f07ab34e64",
       "version_major": 2,
       "version_minor": 0
      },
      "text/plain": [
       "NGLWidget()"
      ]
     },
     "metadata": {},
     "output_type": "display_data"
    }
   ],
   "source": [
    "view = nv.show_structure_file('./data/charmm-gui/openmm/step5_charmm2omm.pdb')\n",
    "#view.add_representation('licorice', selection='water')\n",
    "view.add_representation('cartoon', selection='protein')\n",
    "view\n"
   ]
  },
  {
   "cell_type": "code",
   "execution_count": 19,
   "metadata": {},
   "outputs": [
    {
     "name": "stdout",
     "output_type": "stream",
     "text": [
      "Minimizing...\n"
     ]
    }
   ],
   "source": [
    "simulation = Simulation(psf.topology, system, integrator)\n",
    "simulation.context.setPositions(pdb.positions)\n",
    "print(\"Minimizing...\")\n",
    "simulation.minimizeEnergy()"
   ]
  },
  {
   "cell_type": "code",
   "execution_count": 20,
   "metadata": {},
   "outputs": [
    {
     "name": "stdout",
     "output_type": "stream",
     "text": [
      "#\"Step\",\"Potential Energy (kJ/mole)\",\"Temperature (K)\"\n",
      "1000,-356653.6162109375,257.0097890683596\n",
      "2000,-336403.07763671875,291.13759641019266\n",
      "3000,-332426.0322265625,298.47856224203804\n",
      "4000,-333022.54638671875,298.93678539638444\n",
      "5000,-332074.1806640625,300.5804396380163\n",
      "6000,-332668.54296875,301.3076194891366\n",
      "7000,-332559.32763671875,298.8697824502224\n",
      "8000,-334628.94873046875,300.6511455554233\n",
      "9000,-334128.396484375,299.40794662224715\n",
      "10000,-336227.587890625,298.78323944917645\n"
     ]
    }
   ],
   "source": [
    "\n",
    "# Set up the reporters to report energies every 1000 steps.\n",
    "simulation.reporters.append(PDBReporter('./results/13_output.pdb', 1000))\n",
    "simulation.reporters.append(StateDataReporter(stdout, 1000, step=True,\n",
    "                            potentialEnergy=True, temperature=True))\n",
    "# run simulation\n",
    "simulation.step(10000)"
   ]
  },
  {
   "cell_type": "code",
   "execution_count": 23,
   "metadata": {},
   "outputs": [
    {
     "data": {
      "application/vnd.jupyter.widget-view+json": {
       "model_id": "395577f4d1784b8583c7995279c1ba4c",
       "version_major": 2,
       "version_minor": 0
      },
      "text/plain": [
       "NGLWidget()"
      ]
     },
     "metadata": {},
     "output_type": "display_data"
    }
   ],
   "source": [
    "view = nv.show_structure_file('./results/13_output.pdb')\n",
    "#nv.show_mdtrajectories(view, './results/13_output.pdb')\n",
    "view.add_representation('cartoon', selection='protein')\n",
    "view"
   ]
  },
  {
   "cell_type": "code",
   "execution_count": null,
   "metadata": {},
   "outputs": [],
   "source": []
  },
  {
   "cell_type": "code",
   "execution_count": null,
   "metadata": {},
   "outputs": [],
   "source": []
  },
  {
   "cell_type": "code",
   "execution_count": null,
   "metadata": {},
   "outputs": [],
   "source": []
  },
  {
   "cell_type": "code",
   "execution_count": null,
   "metadata": {},
   "outputs": [],
   "source": []
  },
  {
   "cell_type": "code",
   "execution_count": null,
   "metadata": {},
   "outputs": [],
   "source": []
  },
  {
   "cell_type": "code",
   "execution_count": null,
   "metadata": {},
   "outputs": [],
   "source": []
  },
  {
   "cell_type": "code",
   "execution_count": null,
   "metadata": {},
   "outputs": [],
   "source": []
  }
 ],
 "metadata": {
  "kernelspec": {
   "display_name": "openmm",
   "language": "python",
   "name": "python3"
  },
  "language_info": {
   "codemirror_mode": {
    "name": "ipython",
    "version": 3
   },
   "file_extension": ".py",
   "mimetype": "text/x-python",
   "name": "python",
   "nbconvert_exporter": "python",
   "pygments_lexer": "ipython3",
   "version": "3.10.13"
  }
 },
 "nbformat": 4,
 "nbformat_minor": 2
}
