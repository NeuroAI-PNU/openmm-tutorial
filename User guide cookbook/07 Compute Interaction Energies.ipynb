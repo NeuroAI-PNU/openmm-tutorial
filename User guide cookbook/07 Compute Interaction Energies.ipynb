{
 "cells": [
  {
   "cell_type": "markdown",
   "metadata": {},
   "source": [
    "## Compute Interaction Energies\n",
    "* https://openmm.github.io/openmm-cookbook/latest/notebooks/cookbook/Computing%20Interaction%20Energies.html\n",
    "* compute the interaction energy between two molecules\n",
    "### Consider three cases.\n",
    "1. NonbondedForce is the most common class used for nonbonded interactions.\n",
    "    * not have an option to directly calculate interaction energies, only the total energy of the whole system.\n",
    "    * one for the two molecules together, and one for each of the molecules individually to get its internal energy. Subtracting gives the interaction energy.\n",
    "2. CustomNonbondedForce is also often used to compute nonbonded interactions.\n",
    "    * supports “interaction groups”, which can be used to compute only the interaction energy between two groups of particles.\n",
    "3. Some interactions are not pairwise, such as implicit solvent or polarizable force fields.\n",
    "    * The interaction between two particles depends on many other particles, including ones in other molecules. In these cases, the concept of an “interaction energy” is not well defined."
   ]
  },
  {
   "cell_type": "code",
   "execution_count": 1,
   "metadata": {},
   "outputs": [],
   "source": [
    "from openmm import *\n",
    "from openmm.app import *\n",
    "from openmm.unit import *"
   ]
  },
  {
   "cell_type": "code",
   "execution_count": 2,
   "metadata": {},
   "outputs": [],
   "source": [
    "pdb = PDBFile(\"./data/villin.pdb\")\n",
    "forcefield = ForceField(\"charmm36.xml\", \"charmm36/water.xml\")\n",
    "system = forcefield.createSystem(pdb.topology, nonbondedMethod=PME)"
   ]
  },
  {
   "cell_type": "markdown",
   "metadata": {},
   "source": [
    "* We will compute a solute-solvent interaction energy.\n",
    "* In this file, the solvent consists of water and chloride ions. We can select the atoms by residue name."
   ]
  },
  {
   "cell_type": "code",
   "execution_count": 3,
   "metadata": {},
   "outputs": [],
   "source": [
    "solvent = set(\n",
    "    [a.index for a in pdb.topology.atoms() if a.residue.name in (\"HOH\", \"Cl\")]\n",
    ")\n",
    "protein = set([a.index for a in pdb.topology.atoms() if a.index not in solvent])"
   ]
  },
  {
   "cell_type": "markdown",
   "metadata": {},
   "source": [
    "* For NonbondedForce objects\n",
    "    * add parameter offsets that can be used to “zero out” the parameters of particles in each set, causing them to not interact.  \n",
    "    * We also zero out the exceptions, since they are used for bonds within a single molecule, not for interactions between molecules.\n",
    "* For CustomNonbondedForce objects\n",
    "    * add interaction groups to compute just the solute-solvent interaction energy.\n",
    "\n",
    "* Sort the Force objects into different force groups so we can evaluate them separately.\n",
    "    * group 0 for NonbondedForce, group 1 for CustomNonbondedForce, and group 2 for everything else.\n",
    "\n",
    "\n"
   ]
  },
  {
   "cell_type": "code",
   "execution_count": 4,
   "metadata": {},
   "outputs": [],
   "source": [
    "for force in system.getForces():\n",
    "    if isinstance(force, NonbondedForce):  # For the standard NonbondedForce\n",
    "        force.setForceGroup(0)\n",
    "        force.addGlobalParameter(\"solute_scale\", 1)\n",
    "        force.addGlobalParameter(\"solvent_scale\", 1)\n",
    "        for i in range(force.getNumParticles()):\n",
    "            charge, sigma, epsilon = force.getParticleParameters(i)\n",
    "            # Set the parameters to be 0 when the corresponding parameter is 0,\n",
    "            # and to have their normal values when it is 1.\n",
    "            param = \"solute_scale\" if i in protein else \"solvent_scale\"\n",
    "            force.setParticleParameters(i, 0, 0, 0)\n",
    "            force.addParticleParameterOffset(param, i, charge, sigma, epsilon)\n",
    "        for i in range(force.getNumExceptions()):\n",
    "            # zero out the exceptions\n",
    "            p1, p2, chargeProd, sigma, epsilon = force.getExceptionParameters(i)\n",
    "            force.setExceptionParameters(i, p1, p2, 0, 0, 0)\n",
    "    elif isinstance(force, CustomNonbondedForce):\n",
    "        force.setForceGroup(1)\n",
    "        force.addInteractionGroup(protein, solvent)\n",
    "    else:\n",
    "        force.setForceGroup(2)"
   ]
  },
  {
   "cell_type": "code",
   "execution_count": 5,
   "metadata": {},
   "outputs": [],
   "source": [
    "integrator = VerletIntegrator(0.001 * picosecond)\n",
    "context = Context(system, integrator)\n",
    "context.setPositions(pdb.positions)"
   ]
  },
  {
   "cell_type": "markdown",
   "metadata": {},
   "source": [
    "* CHARMM36 uses NonbondedForce for Coulomb interactions \n",
    "* CustomNonbondedForce for Lennard-Jones interactions. \n",
    "* To compute the Coulomb interaction energy, we evaluate group 0 three times to subtract the internal energy of each set from the total energy."
   ]
  },
  {
   "cell_type": "code",
   "execution_count": 6,
   "metadata": {},
   "outputs": [
    {
     "name": "stdout",
     "output_type": "stream",
     "text": [
      "-140950.28247070312 kJ/mol -9820.490381151438 kJ/mol -124784.04028320312 kJ/mol\n",
      "-6345.751806348562 kJ/mol\n"
     ]
    }
   ],
   "source": [
    "def coulomb_energy(solute_scale, solvent_scale):\n",
    "    context.setParameter(\"solute_scale\", solute_scale)\n",
    "    context.setParameter(\"solvent_scale\", solvent_scale)\n",
    "    return context.getState(getEnergy=True, groups={0}).getPotentialEnergy()\n",
    "\n",
    "\n",
    "total_coulomb = coulomb_energy(1, 1)\n",
    "solute_coulomb = coulomb_energy(1, 0)\n",
    "solvent_coulomb = coulomb_energy(0, 1)\n",
    "print(total_coulomb, solute_coulomb, solvent_coulomb)\n",
    "print(total_coulomb - solute_coulomb - solvent_coulomb)"
   ]
  },
  {
   "cell_type": "code",
   "execution_count": 7,
   "metadata": {},
   "outputs": [
    {
     "name": "stdout",
     "output_type": "stream",
     "text": [
      "-472.08698892593384 kJ/mol\n"
     ]
    }
   ],
   "source": [
    "# for Lennard-Jones, just set group to 1\n",
    "print(context.getState(getEnergy=True, groups={1}).getPotentialEnergy())"
   ]
  },
  {
   "cell_type": "markdown",
   "metadata": {},
   "source": [
    "### amber force field\n",
    "* Other force fields may divide up the energy differently. \n",
    "    * For example, they may use a single NonbondedForce to compute both Coulomb and Lennard-Jones interactions. In that case, the energy computed from NonbondedForce alone represents the total interaction energy.\n",
    "\n",
    "* If you still want to separate the Coulomb and Lennard-Jones interactions in that case, it can be done by defining separate parameters for the two. In this example we decompose the interaction energy for Amber14, which uses a single NonbondedForce for all nonbonded interactions."
   ]
  },
  {
   "cell_type": "code",
   "execution_count": 8,
   "metadata": {},
   "outputs": [],
   "source": [
    "forcefield = ForceField(\"amber14-all.xml\", \"amber14/tip3pfb.xml\")\n",
    "system = forcefield.createSystem(pdb.topology, nonbondedMethod=PME)\n",
    "for force in system.getForces():\n",
    "    if isinstance(force, NonbondedForce):\n",
    "        force.setForceGroup(0)\n",
    "        force.addGlobalParameter(\"solute_coulomb_scale\", 1)\n",
    "        force.addGlobalParameter(\"solute_lj_scale\", 1)\n",
    "        force.addGlobalParameter(\"solvent_coulomb_scale\", 1)\n",
    "        force.addGlobalParameter(\"solvent_lj_scale\", 1)\n",
    "        for i in range(force.getNumParticles()):\n",
    "            charge, sigma, epsilon = force.getParticleParameters(i)\n",
    "            force.setParticleParameters(i, 0, 0, 0)\n",
    "            if i in protein:\n",
    "                force.addParticleParameterOffset(\n",
    "                    \"solute_coulomb_scale\", i, charge, 0, 0\n",
    "                )\n",
    "                force.addParticleParameterOffset(\n",
    "                    \"solute_lj_scale\", i, 0, sigma, epsilon\n",
    "                )\n",
    "            else:\n",
    "                force.addParticleParameterOffset(\n",
    "                    \"solvent_coulomb_scale\", i, charge, 0, 0\n",
    "                )\n",
    "                force.addParticleParameterOffset(\n",
    "                    \"solvent_lj_scale\", i, 0, sigma, epsilon\n",
    "                )\n",
    "        for i in range(force.getNumExceptions()):\n",
    "            p1, p2, chargeProd, sigma, epsilon = force.getExceptionParameters(i)\n",
    "            force.setExceptionParameters(i, p1, p2, 0, 0, 0)\n",
    "    else:\n",
    "        force.setForceGroup(2)"
   ]
  },
  {
   "cell_type": "code",
   "execution_count": 9,
   "metadata": {},
   "outputs": [
    {
     "name": "stdout",
     "output_type": "stream",
     "text": [
      "Coulomb interaction energy: -5638.62236261346 kJ/mol\n",
      "LJ interaction energy: 220.66289985050753 kJ/mol\n"
     ]
    }
   ],
   "source": [
    "integrator = VerletIntegrator(0.001 * picosecond)\n",
    "context = Context(system, integrator)\n",
    "context.setPositions(pdb.positions)\n",
    "\n",
    "\n",
    "def energy(\n",
    "    solute_coulomb_scale, solute_lj_scale, solvent_coulomb_scale, solvent_lj_scale\n",
    "):\n",
    "    context.setParameter(\"solute_coulomb_scale\", solute_coulomb_scale)\n",
    "    context.setParameter(\"solute_lj_scale\", solute_lj_scale)\n",
    "    context.setParameter(\"solvent_coulomb_scale\", solvent_coulomb_scale)\n",
    "    context.setParameter(\"solvent_lj_scale\", solvent_lj_scale)\n",
    "    return context.getState(getEnergy=True, groups={0}).getPotentialEnergy()\n",
    "\n",
    "\n",
    "total_coulomb = energy(1, 0, 1, 0)\n",
    "solute_coulomb = energy(1, 0, 0, 0)\n",
    "solvent_coulomb = energy(0, 0, 1, 0)\n",
    "total_lj = energy(0, 1, 0, 1)\n",
    "solute_lj = energy(0, 1, 0, 0)\n",
    "solvent_lj = energy(0, 0, 0, 1)\n",
    "print(\"Coulomb interaction energy:\", total_coulomb - solute_coulomb - solvent_coulomb)\n",
    "print(\"LJ interaction energy:\", total_lj - solute_lj - solvent_lj)"
   ]
  },
  {
   "cell_type": "markdown",
   "metadata": {},
   "source": [
    "### Compute the interaction energy between two molecules\n",
    "* not divide the energy into Coulomb and Lennard-Jones parts, but instead compute the total interaction energy between the two molecules."
   ]
  },
  {
   "cell_type": "code",
   "execution_count": 10,
   "metadata": {},
   "outputs": [],
   "source": [
    "forcefield = ForceField(\"amber14-all.xml\", \"amber14/tip3pfb.xml\")\n",
    "system = forcefield.createSystem(pdb.topology, nonbondedMethod=PME)\n",
    "for force in system.getForces():\n",
    "    if isinstance(force, NonbondedForce):\n",
    "        force.setForceGroup(0)\n",
    "        force.addGlobalParameter(\"solute_scale\", 1)\n",
    "        force.addGlobalParameter(\"solvent_scale\", 1)\n",
    "        for i in range(force.getNumParticles()):\n",
    "            charge, sigma, epsilon = force.getParticleParameters(i)\n",
    "            force.setParticleParameters(i, 0, 0, 0)\n",
    "            if i in protein:\n",
    "                force.addParticleParameterOffset(\n",
    "                    \"solute_scale\", i, charge, sigma, epsilon\n",
    "                )\n",
    "            else:\n",
    "                force.addParticleParameterOffset(\n",
    "                    \"solvent_scale\", i, charge, sigma, epsilon\n",
    "                )\n",
    "        for i in range(force.getNumExceptions()):\n",
    "            p1, p2, chargeProd, sigma, epsilon = force.getExceptionParameters(i)\n",
    "            force.setExceptionParameters(i, p1, p2, 0, 0, 0)\n",
    "    else:\n",
    "        force.setForceGroup(2)"
   ]
  },
  {
   "cell_type": "code",
   "execution_count": 11,
   "metadata": {},
   "outputs": [
    {
     "name": "stdout",
     "output_type": "stream",
     "text": [
      "Total energy: -127199.82698620878 kJ/mol\n",
      "Solute energy: -13044.658417187851 kJ/mol\n",
      "Solvent energy: -108123.90547741971 kJ/mol\n",
      "Interaction energy: -6031.263091601213 kJ/mol\n"
     ]
    }
   ],
   "source": [
    "integrator = VerletIntegrator(0.001 * picosecond)\n",
    "context = Context(system, integrator)\n",
    "context.setPositions(pdb.positions)\n",
    "\n",
    "\n",
    "def energy(solute_scale, solvent_scale):\n",
    "    context.setParameter(\"solute_scale\", solute_scale)\n",
    "    context.setParameter(\"solvent_scale\", solvent_scale)\n",
    "    return context.getState(getEnergy=True, groups={0}).getPotentialEnergy()\n",
    "\n",
    "\n",
    "total = energy(1, 1)\n",
    "solute = energy(1, 0)\n",
    "solvent = energy(0, 1)\n",
    "\n",
    "print(\"Total energy:\", total)\n",
    "print(\"Solute energy:\", solute)\n",
    "print(\"Solvent energy:\", solvent)\n",
    "print(\"Interaction energy:\", total - solute - solvent)"
   ]
  },
  {
   "cell_type": "code",
   "execution_count": null,
   "metadata": {},
   "outputs": [],
   "source": []
  },
  {
   "cell_type": "code",
   "execution_count": null,
   "metadata": {},
   "outputs": [],
   "source": []
  },
  {
   "cell_type": "code",
   "execution_count": null,
   "metadata": {},
   "outputs": [],
   "source": []
  },
  {
   "cell_type": "code",
   "execution_count": null,
   "metadata": {},
   "outputs": [],
   "source": []
  },
  {
   "cell_type": "code",
   "execution_count": null,
   "metadata": {},
   "outputs": [],
   "source": []
  },
  {
   "cell_type": "markdown",
   "metadata": {},
   "source": []
  }
 ],
 "metadata": {
  "kernelspec": {
   "display_name": "openmm",
   "language": "python",
   "name": "python3"
  },
  "language_info": {
   "codemirror_mode": {
    "name": "ipython",
    "version": 3
   },
   "file_extension": ".py",
   "mimetype": "text/x-python",
   "name": "python",
   "nbconvert_exporter": "python",
   "pygments_lexer": "ipython3",
   "version": "3.10.13"
  }
 },
 "nbformat": 4,
 "nbformat_minor": 2
}
