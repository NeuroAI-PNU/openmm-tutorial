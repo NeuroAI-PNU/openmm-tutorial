{
 "cells": [
  {
   "cell_type": "markdown",
   "metadata": {},
   "source": [
    "## HSP90 with ADP:Mg2+ simulation\n",
    "* https://openmm.github.io/openmm-cookbook/latest/notebooks/tutorials/HSP90_with_ADPMg2_simulation.html#HSP90-with-ADP:Mg2+-simulation\n",
    "* Simulating a protein:ligand complex with multisite solvated ions.\n",
    "\n",
    "### TOC\n",
    "* We begin from the 1BYQ PDB file, add missing residues (only those in the middle of the chain) and missing heavy atoms using PDBFixer. \n",
    "* Using MDTraj, residue and atom naming of the Mg2+ ion and the ADP are fixed to match those in the parameter files, and dummy atoms of the multisite Mg2+ are added. \n",
    "* CONECT records for bonds between Mg2+ and ADP are deleted. Crystallographic waters are preserved for coordination to the Mg2+.\n",
    "* Finally, tleap is run to add hydrogens and parametrize. \n",
    "\n",
    "### Details\n",
    "* We use the ff99SBildn force field, mag.lib and frcmod_mg.mmg files from the multisite Mg2+ model (downloaded from Sept Lab), ADP.prep and frcmod.phos files for the ADP parameters (downloaded from Bryce group Amber parameter database). \n",
    "* The prmtop and inpcrd files are saved for simulation in OpenMM. * \n",
    "The multisite Mg2+ model requires a correction to the Lennard-Jones B-coefficients in the prmtop file, this is done by a short Python script (obtained by email from Prof. David Sept, Sept Lab)."
   ]
  },
  {
   "cell_type": "code",
   "execution_count": 83,
   "metadata": {},
   "outputs": [],
   "source": [
    "# Download the files\n",
    "# You need to run this cell only once at the first time you run this notebook\n",
    "#!wget https://openmm.org/tutorials_/hsp90_adp_mg/files/hsp90_adp_mg.zip -o ./data/hsp90_adp_mg.zip\n",
    "#!unzip -o hsp90_adp_mg.zip -d ./data/hsp90_adp_mg"
   ]
  },
  {
   "cell_type": "code",
   "execution_count": 84,
   "metadata": {},
   "outputs": [],
   "source": [
    "from pdbfixer import PDBFixer\n",
    "from openmm.app import PDBFile\n",
    "import mdtraj as md\n",
    "import os\n",
    "import numpy as np"
   ]
  },
  {
   "cell_type": "code",
   "execution_count": 85,
   "metadata": {},
   "outputs": [],
   "source": [
    "# clean up the original PDB file and add missing residues and heavy atoms\n",
    "fixer = PDBFixer('./data/hsp90_adp_mg/pdb1byq.ent') # it contain pbd.\n"
   ]
  },
  {
   "cell_type": "code",
   "execution_count": 86,
   "metadata": {},
   "outputs": [
    {
     "data": {
      "application/vnd.jupyter.widget-view+json": {
       "model_id": "bf43509927ff41548c490902232a5d29",
       "version_major": 2,
       "version_minor": 0
      },
      "text/plain": [
       "NGLWidget()"
      ]
     },
     "metadata": {},
     "output_type": "display_data"
    }
   ],
   "source": [
    "import nglview as nv\n",
    "view = nv.show_structure_file('./data/hsp90_adp_mg/pdb1byq.ent')\n",
    "view"
   ]
  },
  {
   "cell_type": "code",
   "execution_count": 87,
   "metadata": {},
   "outputs": [
    {
     "data": {
      "text/plain": [
       "{(0, 0): ['ASP', 'GLN'],\n",
       " (0, 213): ['LYS',\n",
       "  'GLU',\n",
       "  'ARG',\n",
       "  'ASP',\n",
       "  'LYS',\n",
       "  'GLU',\n",
       "  'VAL',\n",
       "  'SER',\n",
       "  'ASP',\n",
       "  'ASP',\n",
       "  'GLU',\n",
       "  'ALA',\n",
       "  'GLU']}"
      ]
     },
     "execution_count": 87,
     "metadata": {},
     "output_type": "execute_result"
    }
   ],
   "source": [
    "fixer.findMissingResidues()\n",
    "fixer.missingResidues"
   ]
  },
  {
   "cell_type": "code",
   "execution_count": 88,
   "metadata": {},
   "outputs": [
    {
     "name": "stdout",
     "output_type": "stream",
     "text": [
      "[<Chain 0>, <Chain 1>]\n"
     ]
    }
   ],
   "source": [
    "chains = list(fixer.topology.chains())\n",
    "print(chains)"
   ]
  },
  {
   "cell_type": "code",
   "execution_count": 89,
   "metadata": {},
   "outputs": [
    {
     "data": {
      "text/plain": [
       "dict_keys([(0, 0), (0, 213)])"
      ]
     },
     "execution_count": 89,
     "metadata": {},
     "output_type": "execute_result"
    }
   ],
   "source": [
    "keys = fixer.missingResidues.keys()\n",
    "keys"
   ]
  },
  {
   "cell_type": "code",
   "execution_count": 90,
   "metadata": {},
   "outputs": [
    {
     "name": "stdout",
     "output_type": "stream",
     "text": [
      "{}\n"
     ]
    }
   ],
   "source": [
    "missingResidues = dict()\n",
    "for key in keys:\n",
    "    chain = chains[key[0]]\n",
    "    if not (key[1] == 0 or key[1] == len(list(chain.residues()))):\n",
    "        # ignore terminal residues(0 and last)\n",
    "        missingResidues[key] = fixer.missingResidues[key]\n",
    "        # since we have only termianl missing residues in the 0 chain.\n",
    "        # we can ignore the missing residues\n",
    "fixer.missingResidues = missingResidues\n",
    "print(fixer.missingResidues)"
   ]
  },
  {
   "cell_type": "code",
   "execution_count": 91,
   "metadata": {},
   "outputs": [],
   "source": [
    "fixer.findMissingAtoms()\n",
    "fixer.addMissingAtoms()"
   ]
  },
  {
   "cell_type": "code",
   "execution_count": 92,
   "metadata": {},
   "outputs": [],
   "source": [
    "PDBFile.writeFile(fixer.topology, fixer.positions, open('./data/hsp90_adp_mg/1byq_fixed.pdb', 'w'))"
   ]
  },
  {
   "cell_type": "code",
   "execution_count": 93,
   "metadata": {},
   "outputs": [
    {
     "data": {
      "application/vnd.jupyter.widget-view+json": {
       "model_id": "33dabf090e3648538ecb730e7b374fac",
       "version_major": 2,
       "version_minor": 0
      },
      "text/plain": [
       "NGLWidget()"
      ]
     },
     "metadata": {},
     "output_type": "display_data"
    }
   ],
   "source": [
    "view= nv.show_structure_file('./data/hsp90_adp_mg/1byq_fixed.pdb')\n",
    "view.add_representation('licorice', selection='water')\n",
    "view.add_representation('spacefill', selection='ion')\n",
    "view"
   ]
  },
  {
   "cell_type": "code",
   "execution_count": 94,
   "metadata": {},
   "outputs": [],
   "source": [
    "traj = md.load('./data/hsp90_adp_mg/1byq_fixed.pdb')"
   ]
  },
  {
   "cell_type": "code",
   "execution_count": 95,
   "metadata": {},
   "outputs": [],
   "source": [
    "\n",
    "# fix residue names\n",
    "# in adp - change ` to * in atom names\n",
    "# add Mg dummy atoms\n",
    "#  Using MDTraj, residue and atom naming of the Mg2+ ion and the ADP are fixed to match those in the parameter files, and dummy atoms of the multisite Mg2+ are added. \n",
    "for residue in traj.top.residues:\n",
    "    if residue.name == 'MG': # if it is a magnesium ion\n",
    "        residue.name = 'MMG' # rename it to MMG\n",
    "        residue.atom(0).name = 'XZ' # rename the atom to XZ\n",
    "        for i in range(6):\n",
    "            traj.top.add_atom(f'D{i+1}', md.element.Element.getBySymbol('Mg'), residue)\n",
    "        # add dummy atoms\n",
    "        central_index = residue.atom(0).index # index of the central atom\n",
    "        central_positions = traj.xyz[0,central_index] # position of the central atom\n",
    "        # positions from magnesium_ms.pdb, Sept Lab: http://septlab.engin.umich.edu/multisite-ions.html\n",
    "        dummy_positions = central_positions + [\n",
    "            [0.0, 0.0, 0.09], \n",
    "            [0.09, 0.0, 0.0], \n",
    "            [0.0, 0.0, -0.09],\n",
    "            [-0.09, 0.0, 0.0],\n",
    "            [0.0, -0.09, 0.0],\n",
    "            [0.0, 0.09, 0.0]\n",
    "        ]\n",
    "        traj.xyz = np.array([np.insert(traj.xyz[0], central_index+1, dummy_positions, axis=0)])\n",
    "    elif residue.name == 'ADP': # if it is an adenosine diphosphate\n",
    "        residue.name = 'adp' # rename it to adp\n",
    "        for atom in residue.atoms:\n",
    "            if atom.name[-1] == \"'\": # if it is a prime atom\n",
    "                atom.name = atom.name[:-1] + \"*\" # remove prime and add asterisk"
   ]
  },
  {
   "cell_type": "code",
   "execution_count": 96,
   "metadata": {},
   "outputs": [],
   "source": [
    "# remove adp - mg CONECT bonds\n",
    "bonds = []\n",
    "for bond in traj.top._bonds:\n",
    "    if not (bond[0].residue.name == 'MMG' or bond[1].residue.name == 'MMG'):\n",
    "        # remove MMG bonds\n",
    "        bonds.append(bond)\n",
    "traj.top._bonds = bonds # update bonds"
   ]
  },
  {
   "cell_type": "code",
   "execution_count": 97,
   "metadata": {},
   "outputs": [],
   "source": [
    "traj.save('./data/hsp90_adp_mg/1byq_fixed2.pdb')"
   ]
  },
  {
   "cell_type": "code",
   "execution_count": 98,
   "metadata": {},
   "outputs": [
    {
     "data": {
      "application/vnd.jupyter.widget-view+json": {
       "model_id": "6406179b044f412bbb36a39d5bd1e561",
       "version_major": 2,
       "version_minor": 0
      },
      "text/plain": [
       "NGLWidget()"
      ]
     },
     "metadata": {},
     "output_type": "display_data"
    }
   ],
   "source": [
    "view = nv.show_structure_file('./data/hsp90_adp_mg/1byq_fixed2.pdb')\n",
    "view.add_representation('licorice', selection='water')\n",
    "view.add_representation('spacefill', selection='ion')\n",
    "view"
   ]
  },
  {
   "cell_type": "code",
   "execution_count": 99,
   "metadata": {},
   "outputs": [],
   "source": [
    "# * Finally, tleap is run to add hydrogens and parametrize. \n",
    "# save the tleap script to file\n",
    "with open('./data/hsp90_adp_mg/leaprc.hsp90', 'w') as f:\n",
    "    f.write('''\n",
    "source oldff/leaprc.ff99SBildn\n",
    "loadOff ./data/hsp90_adp_mg/mag.lib\n",
    "loadamberparams ./data/hsp90_adp_mg/frcmod_mg.mmg\n",
    "loadAmberPrep ./data/hsp90_adp_mg/ADP.prep\n",
    "loadamberparams ./data/hsp90_adp_mg/frcmod.phos\n",
    "x = loadPdb ./data/hsp90_adp_mg/1byq_fixed2.pdb\n",
    "addIons x Na+ 0\n",
    "solvateBox x TIP3PBOX 10.0\n",
    "savePdb x ./data/hsp90_adp_mg/topology.pdb\n",
    "saveAmberParm x ./data/hsp90_adp_mg/input.prmtop ./data/hsp90_adp_mg/input.inpcrd\n",
    "quit\n",
    "''')"
   ]
  },
  {
   "cell_type": "code",
   "execution_count": 100,
   "metadata": {},
   "outputs": [],
   "source": [
    "#os.system('tleap -f ./data/hsp90_adp_mg/leaprc.hsp90')\n",
    "# don't run tleap, just use the prepared files"
   ]
  },
  {
   "cell_type": "code",
   "execution_count": 101,
   "metadata": {},
   "outputs": [],
   "source": [
    "from openmm import app\n",
    "import openmm as mm\n",
    "from openmm import unit\n",
    "from sys import stdout"
   ]
  },
  {
   "cell_type": "code",
   "execution_count": 102,
   "metadata": {},
   "outputs": [],
   "source": [
    "# load in Amber input files\n",
    "prmtop = app.AmberPrmtopFile('./data/hsp90_adp_mg/input.prmtop.mod')\n",
    "inpcrd = app.AmberInpcrdFile('./data/hsp90_adp_mg/input.inpcrd')"
   ]
  },
  {
   "cell_type": "code",
   "execution_count": 103,
   "metadata": {},
   "outputs": [],
   "source": [
    "# prepare system and integrator\n",
    "\n",
    "system = prmtop.createSystem(nonbondedMethod=app.PME,\n",
    "    nonbondedCutoff=1.0*unit.nanometers, constraints=app.HBonds, rigidWater=True,\n",
    "    ewaldErrorTolerance=0.0005)\n",
    "integrator = mm.LangevinIntegrator(300*unit.kelvin, 1.0/unit.picoseconds,\n",
    "    2.0*unit.femtoseconds)\n",
    "integrator.setConstraintTolerance(0.00001)"
   ]
  },
  {
   "cell_type": "code",
   "execution_count": 104,
   "metadata": {},
   "outputs": [],
   "source": [
    "# prepare simulation\n",
    "platform = mm.Platform.getPlatformByName('CUDA')\n",
    "simulation = app.Simulation(prmtop.topology, system, integrator, platform)\n",
    "simulation.context.setPositions(inpcrd.positions)"
   ]
  },
  {
   "cell_type": "code",
   "execution_count": 105,
   "metadata": {},
   "outputs": [
    {
     "name": "stdout",
     "output_type": "stream",
     "text": [
      "Minimizing...\n"
     ]
    }
   ],
   "source": [
    "# minimize\n",
    "print('Minimizing...')\n",
    "simulation.minimizeEnergy()"
   ]
  },
  {
   "cell_type": "code",
   "execution_count": 106,
   "metadata": {},
   "outputs": [
    {
     "name": "stdout",
     "output_type": "stream",
     "text": [
      "Equilibrating...\n"
     ]
    }
   ],
   "source": [
    "# equilibrate for 100 steps\n",
    "simulation.context.setVelocitiesToTemperature(300*unit.kelvin)\n",
    "print('Equilibrating...')\n",
    "simulation.step(100)"
   ]
  },
  {
   "cell_type": "code",
   "execution_count": 107,
   "metadata": {},
   "outputs": [],
   "source": [
    "# append reporters\n",
    "simulation.reporters.append(app.DCDReporter('./results/HSP90_trajectory.dcd', 1000))\n",
    "simulation.reporters.append(app.StateDataReporter(stdout, 1000, step=True,\n",
    "    potentialEnergy=True, temperature=True, progress=True, remainingTime=True,\n",
    "    speed=True, totalSteps=250000, separator='\\t'))"
   ]
  },
  {
   "cell_type": "code",
   "execution_count": 108,
   "metadata": {},
   "outputs": [
    {
     "name": "stdout",
     "output_type": "stream",
     "text": [
      "Running Production...\n",
      "#\"Progress (%)\"\t\"Step\"\t\"Potential Energy (kJ/mole)\"\t\"Temperature (K)\"\t\"Speed (ns/day)\"\t\"Time Remaining\"\n",
      "0.4%\t1000\t-657769.6012285054\t268.2016723165408\t0\t--\n",
      "0.8%\t2000\t-636196.8570878804\t293.22729685550223\t85.6\t8:20\n",
      "1.2%\t3000\t-631532.6656816304\t298.6068512882197\t90.5\t7:51\n",
      "1.6%\t4000\t-631483.1344316304\t298.8572335229811\t89.2\t7:56\n",
      "2.0%\t5000\t-631041.3805253804\t298.97435032435277\t90.7\t7:46\n",
      "2.4%\t6000\t-633123.4781816304\t301.93801629793006\t89.7\t7:49\n",
      "2.8%\t7000\t-631609.2555253804\t298.4986612869753\t90.5\t7:43\n",
      "3.2%\t8000\t-632389.1969316304\t300.099004674429\t89.7\t7:45\n",
      "3.6%\t9000\t-635907.8063066304\t301.3292086179184\t90.3\t7:41\n",
      "4.0%\t10000\t-635021.1207597554\t301.04010130641404\t90.6\t7:37\n",
      "4.4%\t11000\t-636274.3902910054\t300.3470966437173\t90\t7:38\n",
      "4.8%\t12000\t-637817.6852128804\t298.3449565106069\t90.3\t7:35\n",
      "5.2%\t13000\t-640415.3375566304\t302.469646637822\t89.7\t7:36\n",
      "5.6%\t14000\t-637471.2223222554\t300.32685241106515\t89.9\t7:33\n",
      "6.0%\t15000\t-638573.0172441304\t300.1925554546667\t90.1\t7:30\n",
      "6.4%\t16000\t-638763.5211503804\t300.5123616694934\t89.6\t7:31\n",
      "6.8%\t17000\t-638688.4899003804\t299.88918308645594\t89.7\t7:28\n",
      "7.2%\t18000\t-639575.0113847554\t299.0331160849415\t89.4\t7:28\n",
      "7.6%\t19000\t-637967.2262285054\t300.63021242446365\t89.4\t7:26\n",
      "8.0%\t20000\t-638659.7223222554\t300.57091543153007\t89.1\t7:25\n",
      "8.4%\t21000\t-638136.1324785054\t300.9731359625012\t89.3\t7:23\n",
      "8.8%\t22000\t-639973.5094316304\t300.72173508281537\t89.4\t7:20\n",
      "9.2%\t23000\t-639825.7789628804\t299.22959834382243\t89.1\t7:20\n",
      "9.6%\t24000\t-639642.3883378804\t299.9929253680257\t89.2\t7:17\n",
      "10.0%\t25000\t-639384.3219316304\t301.70158366145114\t88.9\t7:17\n",
      "10.4%\t26000\t-640375.8004472554\t300.12159001460356\t89\t7:14\n",
      "10.8%\t27000\t-641142.9684160054\t299.4171524414936\t89.1\t7:12\n",
      "11.2%\t28000\t-640281.3082597554\t301.0705336015027\t88.8\t7:11\n",
      "11.6%\t29000\t-640373.7770097554\t299.2781361245285\t88.9\t7:09\n",
      "12.0%\t30000\t-640281.2008378804\t301.296773405716\t88.7\t7:08\n",
      "12.4%\t31000\t-640318.2926347554\t300.1958386034661\t88.7\t7:06\n",
      "12.8%\t32000\t-639942.3941972554\t301.60189746858504\t88.5\t7:05\n",
      "13.2%\t33000\t-638802.5094316304\t299.1789430143107\t88.6\t7:03\n",
      "13.6%\t34000\t-639691.2457597554\t302.36464163107536\t88.6\t7:01\n",
      "14.0%\t35000\t-640333.2496660054\t300.6809246334738\t88.4\t7:00\n",
      "14.4%\t36000\t-641146.6559160054\t298.6478149468137\t88.5\t6:58\n",
      "14.8%\t37000\t-639940.1637285054\t300.37432819317326\t88.2\t6:57\n",
      "15.2%\t38000\t-639353.0426347554\t298.55284981230636\t88.3\t6:54\n",
      "15.6%\t39000\t-639885.3277910054\t299.1471775977543\t88.1\t6:53\n",
      "16.0%\t40000\t-640720.6734941304\t299.3002611662952\t88.2\t6:51\n",
      "16.4%\t41000\t-641152.3961503804\t301.5403878175367\t88\t6:50\n",
      "16.8%\t42000\t-640459.0856035054\t299.516740316307\t88\t6:48\n",
      "17.2%\t43000\t-639724.9918535054\t301.37436207561\t88.1\t6:46\n",
      "17.6%\t44000\t-640792.2066972554\t300.88919157794066\t87.9\t6:44\n",
      "18.0%\t45000\t-640567.9156816304\t300.94680294277504\t88\t6:42\n",
      "18.4%\t46000\t-640204.9547441304\t298.56909692695075\t87.8\t6:41\n",
      "18.8%\t47000\t-641116.7574785054\t299.3336542448997\t87.9\t6:39\n",
      "19.2%\t48000\t-640803.1402910054\t298.0635030890937\t87.9\t6:37\n",
      "19.6%\t49000\t-640520.2066972554\t300.58480275011\t87.8\t6:35\n",
      "20.0%\t50000\t-639769.4977128804\t304.4797540045779\t87.8\t6:33\n",
      "20.4%\t51000\t-640942.4332597554\t299.88079920851726\t87.7\t6:32\n",
      "20.8%\t52000\t-641299.9996660054\t300.28528039760215\t87.7\t6:30\n",
      "21.2%\t53000\t-641967.4313066304\t299.56399516121496\t87.6\t6:28\n",
      "21.6%\t54000\t-641394.0719316304\t298.34161040547167\t87.6\t6:26\n",
      "22.0%\t55000\t-640765.5016191304\t299.88056333794555\t87.6\t6:24\n",
      "22.4%\t56000\t-641869.4059160054\t302.2832649213631\t87.5\t6:22\n",
      "22.8%\t57000\t-640812.0387285054\t298.6092026794636\t87.6\t6:20\n",
      "23.2%\t58000\t-640638.8629472554\t302.21936099749064\t87.4\t6:19\n",
      "23.6%\t59000\t-639888.9508378804\t300.8678922532159\t87.5\t6:17\n",
      "24.0%\t60000\t-639715.3277910054\t299.3036128349084\t87.4\t6:15\n",
      "24.4%\t61000\t-640060.6598222554\t299.3934532412403\t87.4\t6:13\n",
      "24.8%\t62000\t-639483.1676347554\t299.281290071445\t87.3\t6:12\n",
      "25.2%\t63000\t-639975.5035722554\t299.18358820437055\t87.3\t6:10\n",
      "25.6%\t64000\t-641289.1852128804\t299.4433020457807\t87.4\t6:07\n",
      "26.0%\t65000\t-643079.7594316304\t299.40230652549855\t87.3\t6:06\n",
      "26.4%\t66000\t-642557.4449785054\t300.0258428005669\t87.3\t6:04\n",
      "26.8%\t67000\t-641276.5113847554\t298.50155555214377\t87.2\t6:02\n",
      "27.2%\t68000\t-641732.8258378804\t301.85727189708433\t87.2\t6:00\n",
      "27.6%\t69000\t-641363.2203691304\t297.2820789706658\t87.2\t5:58\n",
      "28.0%\t70000\t-643486.6637285054\t301.16351295373295\t87.1\t5:56\n",
      "28.4%\t71000\t-641464.6207597554\t297.71762578451614\t87.2\t5:54\n",
      "28.8%\t72000\t-641878.9820878804\t298.4798542314434\t87.1\t5:53\n",
      "29.2%\t73000\t-641375.2691972554\t298.8062624702022\t87.1\t5:51\n",
      "29.6%\t74000\t-641159.9332597554\t298.3981491518107\t87\t5:49\n",
      "30.0%\t75000\t-640341.1695878804\t300.3859202622126\t87.1\t5:47\n",
      "30.4%\t76000\t-640793.7184160054\t296.72214677159945\t87.1\t5:45\n",
      "30.8%\t77000\t-641614.2809160054\t297.59643856716826\t87\t5:43\n",
      "31.2%\t78000\t-641133.4801347554\t297.88626219549667\t87\t5:41\n",
      "31.6%\t79000\t-642108.8180253804\t300.6684668451576\t86.9\t5:39\n",
      "32.0%\t80000\t-640480.6246660054\t299.8884654897629\t86.9\t5:37\n",
      "32.4%\t81000\t-641016.3043535054\t299.35154655242997\t86.9\t5:36\n",
      "32.8%\t82000\t-640525.8395097554\t299.7078353639184\t86.9\t5:34\n",
      "33.2%\t83000\t-640472.8629472554\t299.85346160731353\t86.8\t5:32\n",
      "33.6%\t84000\t-641016.0328691304\t300.9224568142008\t86.8\t5:30\n",
      "34.0%\t85000\t-641391.9762285054\t300.5952388946484\t86.9\t5:28\n",
      "34.4%\t86000\t-642193.6910722554\t301.6681316154344\t86.8\t5:26\n",
      "34.8%\t87000\t-641846.7438066304\t300.10501485250427\t86.8\t5:24\n",
      "35.2%\t88000\t-640973.4684160054\t298.69353009039486\t86.7\t5:22\n",
      "35.6%\t89000\t-643014.5426347554\t302.5328203940683\t86.7\t5:20\n",
      "36.0%\t90000\t-640584.9391191304\t299.45009340919387\t86.7\t5:18\n",
      "36.4%\t91000\t-640685.9566972554\t300.07629984671706\t86.7\t5:17\n",
      "36.8%\t92000\t-640978.3863847554\t302.0790410157353\t86.7\t5:14\n",
      "37.2%\t93000\t-640142.2887285054\t301.445633653088\t86.6\t5:13\n",
      "37.6%\t94000\t-641940.8746660054\t297.73225465596647\t86.6\t5:11\n",
      "38.0%\t95000\t-641663.8629472554\t298.46628257364557\t86.6\t5:09\n",
      "38.4%\t96000\t-640351.4215410054\t301.0157098667857\t86.6\t5:07\n",
      "38.8%\t97000\t-640625.7887285054\t299.6050029047227\t86.6\t5:05\n",
      "39.2%\t98000\t-640806.8024003804\t297.673046670346\t86.5\t5:03\n",
      "39.6%\t99000\t-641965.5953691304\t299.99829525753427\t86.6\t5:01\n",
      "40.0%\t100000\t-642823.3785722554\t300.152958433041\t86.5\t4:59\n",
      "40.4%\t101000\t-641877.9508378804\t298.6805779442134\t86.5\t4:57\n",
      "40.8%\t102000\t-643616.4899003804\t296.87117707627687\t86.5\t4:55\n",
      "41.2%\t103000\t-641293.9938066304\t299.2607494437139\t86.5\t4:53\n",
      "41.6%\t104000\t-640997.5914628804\t299.8073603008405\t86.4\t4:51\n",
      "42.0%\t105000\t-642105.6774003804\t301.8877656571226\t86.4\t4:49\n",
      "42.4%\t106000\t-639874.2731035054\t300.04119941088055\t86.5\t4:47\n",
      "42.8%\t107000\t-641434.6441972554\t301.22406101588814\t86.4\t4:46\n",
      "43.2%\t108000\t-642391.7203691304\t299.6114401011626\t86.4\t4:43\n",
      "43.6%\t109000\t-642536.5621660054\t300.30778851029595\t86.4\t4:42\n",
      "44.0%\t110000\t-640579.9859941304\t297.159755161304\t86.4\t4:40\n",
      "44.4%\t111000\t-642202.5953691304\t300.18395122074645\t86.4\t4:38\n",
      "44.8%\t112000\t-641349.2789628804\t298.36147160285924\t86.3\t4:36\n",
      "45.2%\t113000\t-642456.6422441304\t296.8501155016627\t86.4\t4:34\n",
      "45.6%\t114000\t-641936.4488847554\t299.2687315136269\t86.3\t4:32\n",
      "46.0%\t115000\t-641999.3941972554\t297.9398000462319\t86.3\t4:30\n",
      "46.4%\t116000\t-640738.8531816304\t298.5312811502005\t86.3\t4:28\n",
      "46.8%\t117000\t-642806.5875566304\t300.43428437669706\t86.3\t4:26\n",
      "47.2%\t118000\t-641477.4176347554\t301.5064068743753\t86.3\t4:24\n",
      "47.6%\t119000\t-640286.8336503804\t297.9955891219246\t86.3\t4:22\n",
      "48.0%\t120000\t-641800.9723222554\t300.5200846862168\t86.3\t4:20\n",
      "48.4%\t121000\t-640542.7145097554\t300.1702222647893\t86.2\t4:18\n",
      "48.8%\t122000\t-641918.3629472554\t301.07111768159234\t86.3\t4:16\n",
      "49.2%\t123000\t-639960.9430253804\t297.45062009066123\t86.2\t4:14\n",
      "49.6%\t124000\t-641058.0895097554\t300.60047173675605\t86.2\t4:12\n",
      "50.0%\t125000\t-639905.5836503804\t300.83952466781125\t86.2\t4:10\n",
      "50.4%\t126000\t-639730.8063066304\t301.0176718118346\t86.2\t4:08\n",
      "50.8%\t127000\t-640925.8063066304\t298.9239564667208\t86.2\t4:06\n",
      "51.2%\t128000\t-639344.0914628804\t299.89833570398383\t86.2\t4:04\n",
      "51.6%\t129000\t-641160.2125566304\t300.4193077545235\t86.2\t4:02\n",
      "52.0%\t130000\t-641811.4684160054\t298.72946879115773\t86.2\t4:00\n",
      "52.4%\t131000\t-641147.8688066304\t300.8021667405161\t86.2\t3:58\n",
      "52.8%\t132000\t-641807.3141191304\t301.6635012075254\t86.2\t3:56\n",
      "53.2%\t133000\t-640898.7984941304\t300.875969229751\t86.2\t3:54\n",
      "53.6%\t134000\t-640917.6188066304\t299.65179760754387\t86.2\t3:52\n",
      "54.0%\t135000\t-641630.5406816304\t300.6012426259877\t86.2\t3:50\n",
      "54.4%\t136000\t-641208.3688066304\t300.3713819130913\t86.2\t3:48\n",
      "54.8%\t137000\t-640985.6500566304\t299.21149600798964\t86.1\t3:46\n",
      "55.2%\t138000\t-642287.7731035054\t299.955079524835\t86.1\t3:44\n",
      "55.6%\t139000\t-641205.1500566304\t301.1415900222581\t86.2\t3:42\n",
      "56.0%\t140000\t-640979.6012285054\t301.44920423025883\t86.1\t3:40\n",
      "56.4%\t141000\t-640903.1559160054\t298.3924921900646\t86.2\t3:38\n",
      "56.8%\t142000\t-641001.1813066304\t300.52220448251995\t86.1\t3:36\n",
      "57.2%\t143000\t-641275.4625566304\t300.3836778446362\t86.1\t3:34\n",
      "57.6%\t144000\t-640250.7301347554\t300.2181456666747\t86.1\t3:32\n",
      "58.0%\t145000\t-640635.0172441304\t299.6478644244213\t86.1\t3:30\n",
      "58.4%\t146000\t-641757.0738847554\t301.1425827558512\t86.1\t3:28\n",
      "58.8%\t147000\t-640693.8316972554\t299.0824248695579\t86.1\t3:26\n",
      "59.2%\t148000\t-640763.9098222554\t298.8490057847475\t86.1\t3:24\n",
      "59.6%\t149000\t-640454.0699785054\t301.01068687752627\t86.1\t3:22\n",
      "60.0%\t150000\t-640511.2320878804\t302.58723993449087\t86.1\t3:20\n",
      "60.4%\t151000\t-640218.6149003804\t302.01094854013417\t86.1\t3:18\n",
      "60.8%\t152000\t-640512.3727128804\t299.82338290560585\t86.1\t3:16\n",
      "61.2%\t153000\t-640828.8414628804\t300.9413894873371\t86.1\t3:14\n",
      "61.6%\t154000\t-641447.6793535054\t298.59185293147215\t86.1\t3:12\n",
      "62.0%\t155000\t-642762.7477128804\t299.046100190834\t86.1\t3:10\n",
      "62.4%\t156000\t-641883.1813066304\t299.7002293810177\t86.1\t3:08\n",
      "62.8%\t157000\t-641278.1871660054\t297.84975224483446\t86.1\t3:06\n",
      "63.2%\t158000\t-642628.8551347554\t302.3988284123584\t86\t3:04\n",
      "63.6%\t159000\t-640008.3414628804\t297.62423639048785\t86\t3:02\n",
      "64.0%\t160000\t-641625.5484941304\t297.95588963775236\t86.1\t3:00\n",
      "64.4%\t161000\t-640394.9000566304\t300.7918352409305\t86\t2:58\n",
      "64.8%\t162000\t-640934.6227128804\t299.40207440721105\t86\t2:56\n",
      "65.2%\t163000\t-642480.2301347554\t299.82002052630355\t86\t2:54\n",
      "65.6%\t164000\t-641565.1793535054\t300.1442451304729\t86\t2:52\n",
      "66.0%\t165000\t-642271.2516191304\t298.2192400616301\t86\t2:50\n",
      "66.4%\t166000\t-641512.8922441304\t299.3046124116308\t86\t2:48\n",
      "66.8%\t167000\t-642331.1715410054\t301.0551597808467\t86\t2:46\n",
      "67.2%\t168000\t-642231.8629472554\t299.99948878365905\t86\t2:44\n",
      "67.6%\t169000\t-642156.3766191304\t299.94357920504115\t86\t2:42\n",
      "68.0%\t170000\t-640708.1988847554\t300.2785029594282\t86\t2:40\n",
      "68.4%\t171000\t-642200.8629472554\t299.24002363789833\t86\t2:38\n",
      "68.8%\t172000\t-641284.1383378804\t299.9579535577502\t86\t2:36\n",
      "69.2%\t173000\t-640690.2867753804\t300.1236436931622\t86\t2:34\n",
      "69.6%\t174000\t-639576.5191972554\t301.5079673595615\t86\t2:32\n",
      "70.0%\t175000\t-639816.4195878804\t302.13992872993305\t86\t2:30\n",
      "70.4%\t176000\t-641965.1559160054\t301.45099262332536\t86\t2:28\n",
      "70.8%\t177000\t-639747.4000566304\t298.93137525659836\t86\t2:26\n",
      "71.2%\t178000\t-642274.5602128804\t298.44796890732874\t86\t2:24\n",
      "71.6%\t179000\t-643465.8707597554\t299.65937214158447\t85.9\t2:22\n",
      "72.0%\t180000\t-642151.9899003804\t299.6378234605294\t86\t2:20\n",
      "72.4%\t181000\t-641310.0797441304\t299.88340961282296\t86\t2:18\n",
      "72.8%\t182000\t-641787.6598222554\t298.69780837589514\t85.9\t2:16\n",
      "73.2%\t183000\t-642206.9586503804\t299.4455004761355\t86\t2:14\n",
      "73.6%\t184000\t-641662.7106035054\t302.56551362988677\t85.9\t2:12\n",
      "74.0%\t185000\t-640912.9547441304\t301.0864411765571\t85.9\t2:10\n",
      "74.4%\t186000\t-640603.3258378804\t299.8939863470884\t85.9\t2:08\n",
      "74.8%\t187000\t-640390.7086503804\t299.83371313598184\t85.9\t2:06\n",
      "75.2%\t188000\t-641086.0992753804\t301.47690845256295\t85.9\t2:04\n",
      "75.6%\t189000\t-639978.3863847554\t300.8917397038593\t85.9\t2:02\n",
      "76.0%\t190000\t-640415.6285722554\t298.57020149447766\t85.9\t2:00\n",
      "76.4%\t191000\t-640807.5621660054\t298.97069923057296\t85.9\t1:58\n",
      "76.8%\t192000\t-641027.1246660054\t301.14036427796214\t85.9\t1:56\n",
      "77.2%\t193000\t-641589.1871660054\t301.6117309368309\t85.9\t1:54\n",
      "77.6%\t194000\t-640550.0680253804\t299.2047561092126\t85.9\t1:52\n",
      "78.0%\t195000\t-641926.4918535054\t297.8226023978686\t85.9\t1:50\n",
      "78.4%\t196000\t-641573.0445878804\t300.9526043845324\t85.9\t1:48\n",
      "78.8%\t197000\t-641693.4664628804\t300.2808030247321\t85.9\t1:46\n",
      "79.2%\t198000\t-640450.8434160054\t299.31588329603017\t85.9\t1:44\n",
      "79.6%\t199000\t-639978.3492753804\t299.2099570880556\t85.9\t1:42\n",
      "80.0%\t200000\t-641634.4859941304\t298.7191151973544\t85.9\t1:40\n",
      "80.4%\t201000\t-640609.1383378804\t295.9843198557492\t85.9\t1:38\n",
      "80.8%\t202000\t-641052.4430253804\t300.9148775146329\t85.9\t1:36\n",
      "81.2%\t203000\t-640849.3277910054\t300.60925722541265\t85.9\t1:34\n",
      "81.6%\t204000\t-641444.3688066304\t300.49576317506114\t85.9\t1:32\n",
      "82.0%\t205000\t-641596.3199785054\t301.1674687161625\t85.9\t1:30\n",
      "82.4%\t206000\t-640804.2125566304\t299.7348990964737\t85.9\t1:28\n",
      "82.8%\t207000\t-640068.1441972554\t298.5970257948152\t85.9\t1:26\n",
      "83.2%\t208000\t-642279.6109941304\t299.6666504146091\t85.9\t1:24\n",
      "83.6%\t209000\t-640065.2965410054\t299.99225324589696\t85.8\t1:22\n",
      "84.0%\t210000\t-640623.6344316304\t301.2516351901484\t85.9\t1:20\n",
      "84.4%\t211000\t-641282.4781816304\t296.2611854373675\t85.9\t1:18\n",
      "84.8%\t212000\t-642205.5758378804\t299.3568573679693\t85.9\t1:16\n",
      "85.2%\t213000\t-641366.6305253804\t300.2609193533275\t85.9\t1:14\n",
      "85.6%\t214000\t-640678.8844316304\t299.98319228078356\t85.8\t1:12\n",
      "86.0%\t215000\t-642543.6676347554\t299.6050453860968\t85.9\t1:10\n",
      "86.4%\t216000\t-642261.9703691304\t298.1645370981955\t85.9\t1:08\n",
      "86.8%\t217000\t-641913.9762285054\t300.30587811352984\t85.8\t1:06\n",
      "87.2%\t218000\t-641371.4703691304\t303.1010084425889\t85.9\t1:04\n",
      "87.6%\t219000\t-640169.4156816304\t303.06247879303066\t85.8\t1:02\n",
      "88.0%\t220000\t-641499.5621660054\t301.3214855976522\t85.8\t1:00\n",
      "88.4%\t221000\t-642342.1090410054\t301.2481834180156\t85.8\t0:58\n",
      "88.8%\t222000\t-640865.0953691304\t300.60739079410195\t85.8\t0:56\n",
      "89.2%\t223000\t-641647.7555253804\t300.8597342174727\t85.8\t0:54\n",
      "89.6%\t224000\t-640935.4977128804\t297.83934634894854\t85.8\t0:52\n",
      "90.0%\t225000\t-641769.8727128804\t298.9947403224844\t85.8\t0:50\n",
      "90.4%\t226000\t-640562.0387285054\t300.47858386352686\t85.8\t0:48\n",
      "90.8%\t227000\t-641123.7535722554\t299.81548181742005\t85.8\t0:46\n",
      "91.2%\t228000\t-641053.2281816304\t302.8133781262155\t85.8\t0:44\n",
      "91.6%\t229000\t-640798.2027910054\t300.1270869611394\t85.8\t0:42\n",
      "92.0%\t230000\t-641055.9664628804\t300.53735680209377\t85.8\t0:40\n",
      "92.4%\t231000\t-641520.5211503804\t300.7840035858085\t85.8\t0:38\n",
      "92.8%\t232000\t-641720.2887285054\t300.0511574284631\t85.8\t0:36\n",
      "93.2%\t233000\t-640706.6168535054\t300.79150859858237\t85.8\t0:34\n",
      "93.6%\t234000\t-642046.8570878804\t298.5647482280695\t85.8\t0:32\n",
      "94.0%\t235000\t-640208.7594316304\t300.17527410136296\t85.8\t0:30\n",
      "94.4%\t236000\t-642135.5660722554\t301.36237789686226\t85.8\t0:28\n",
      "94.8%\t237000\t-641769.5309160054\t300.5320206566596\t85.8\t0:26\n",
      "95.2%\t238000\t-641217.9215410054\t300.76652621152675\t85.8\t0:24\n",
      "95.6%\t239000\t-642491.2574785054\t301.8672203448855\t85.8\t0:22\n",
      "96.0%\t240000\t-640423.8981035054\t301.01039437230907\t85.8\t0:20\n",
      "96.4%\t241000\t-641837.4879472554\t300.5766656929823\t85.8\t0:18\n",
      "96.8%\t242000\t-641869.7320878804\t299.26055540660644\t85.8\t0:16\n",
      "97.2%\t243000\t-642088.8863847554\t301.17309339134704\t85.8\t0:14\n",
      "97.6%\t244000\t-640361.8180253804\t300.8811954293892\t85.8\t0:12\n",
      "98.0%\t245000\t-641132.8121660054\t300.20879938683964\t85.7\t0:10\n",
      "98.4%\t246000\t-641471.0797441304\t301.34078475552985\t85.8\t0:08\n",
      "98.8%\t247000\t-641623.5856035054\t300.48623199238585\t85.7\t0:06\n",
      "99.2%\t248000\t-641075.6070878804\t296.71478430981324\t85.8\t0:04\n",
      "99.6%\t249000\t-642069.8316972554\t300.6718711831245\t85.7\t0:02\n",
      "100.0%\t250000\t-641228.7906816304\t300.6638380695965\t85.8\t0:00\n",
      "Done!\n"
     ]
    }
   ],
   "source": [
    "# run 0.5 ns of production simulation, it takes about 8 min\n",
    "# for 50 ns, it takes about 12 hrs\n",
    "print('Running Production...')\n",
    "simulation.step(250000)\n",
    "print('Done!')"
   ]
  },
  {
   "cell_type": "code",
   "execution_count": 109,
   "metadata": {},
   "outputs": [],
   "source": [
    "## we should revist this code book to analyse the results"
   ]
  },
  {
   "cell_type": "code",
   "execution_count": null,
   "metadata": {},
   "outputs": [],
   "source": []
  },
  {
   "cell_type": "code",
   "execution_count": null,
   "metadata": {},
   "outputs": [],
   "source": []
  },
  {
   "cell_type": "code",
   "execution_count": null,
   "metadata": {},
   "outputs": [],
   "source": []
  },
  {
   "cell_type": "code",
   "execution_count": null,
   "metadata": {},
   "outputs": [],
   "source": []
  },
  {
   "cell_type": "code",
   "execution_count": null,
   "metadata": {},
   "outputs": [],
   "source": []
  }
 ],
 "metadata": {
  "kernelspec": {
   "display_name": "openmm",
   "language": "python",
   "name": "python3"
  },
  "language_info": {
   "codemirror_mode": {
    "name": "ipython",
    "version": 3
   },
   "file_extension": ".py",
   "mimetype": "text/x-python",
   "name": "python",
   "nbconvert_exporter": "python",
   "pygments_lexer": "ipython3",
   "version": "3.10.13"
  }
 },
 "nbformat": 4,
 "nbformat_minor": 2
}
