{
 "cells": [
  {
   "cell_type": "markdown",
   "metadata": {},
   "source": [
    "## T019 Molecular dynamics simulation\n",
    "* https://projects.volkamerlab.org/teachopencadd/talktorials/T019_md_simulation.html\n",
    "\n",
    "### TOC\n",
    "#### 1. Preparation of complex pbd\n",
    "* Download PDB file\n",
    "* Prepare the protein ligand complex\n",
    "    * Protein preparation\n",
    "    * Ligand preparation\n",
    "    * Merge protein and ligand\n",
    "\n",
    "#### 2. Create system for MD simulation\n",
    "* MD simulation set up\n",
    "    * Force field\n",
    "    * System - protein, ligand, water, ions\n",
    "#### 3. Run MD simulation\n",
    "* Perform the MD simulation\n",
    "* Download results\n",
    "\n",
    "### Some tips\n",
    "* For simulations under periodic boundary conditions, it is recommended to use a simulation box large enough, so that the simulated macromolecule does not come into contact with neighboring images of itself.\n",
    "\n",
    "### Advantage of MD simulation\n",
    "* MD give valuable insights into the highly dynamic process of ligand binding to their target.\n",
    "* ligands may induce conformational changes in the macromolecule that can best accommodate the small molecule.\n",
    "    * binding sites that are not observed in static ligand-free structures, but can be discovered with MD simulations, are sometimes called cryptic binding sites.\n",
    "    * The identification of such binding sites with MD simulation can kickstart new drug discovery campaigns.\n",
    "* Later in the drug discovery process, MD simulations can also be used to estimate the quality of computationally identified small molecules before performing more costly and time-intensive in vitro tests. \n"
   ]
  },
  {
   "cell_type": "code",
   "execution_count": 1,
   "metadata": {},
   "outputs": [
    {
     "data": {
      "application/vnd.jupyter.widget-view+json": {
       "model_id": "fbc7579412864579bf5a7ce1949ef0b2",
       "version_major": 2,
       "version_minor": 0
      },
      "text/plain": []
     },
     "metadata": {},
     "output_type": "display_data"
    }
   ],
   "source": [
    "# Load libaries\n",
    "import copy\n",
    "from pathlib import Path\n",
    "\n",
    "import requests\n",
    "from IPython.display import display\n",
    "import numpy as np\n",
    "from rdkit import Chem\n",
    "from rdkit.Chem import Draw\n",
    "from rdkit.Chem import AllChem\n",
    "import mdtraj as md\n",
    "import pdbfixer\n",
    "import nglview as nv\n",
    "import openmm as mm\n",
    "import openmm.app as app\n",
    "from openmm import unit\n",
    "from openff.toolkit.topology import Molecule, Topology\n",
    "from openmmforcefields.generators import GAFFTemplateGenerator\n"
   ]
  },
  {
   "cell_type": "code",
   "execution_count": 2,
   "metadata": {},
   "outputs": [],
   "source": [
    "# create data directory if not exists\n",
    "data_dir = Path(\"./data/EGPR_tutorial\")\n",
    "Path(data_dir).mkdir(parents=True, exist_ok=True)\n",
    "result_dir = Path(\"./results/EGPR_tutorial\")\n",
    "Path(result_dir).mkdir(parents=True, exist_ok=True)"
   ]
  },
  {
   "cell_type": "code",
   "execution_count": 3,
   "metadata": {},
   "outputs": [
    {
     "data": {
      "application/vnd.jupyter.widget-view+json": {
       "model_id": "bae4849f16e842169596961b18c367a7",
       "version_major": 2,
       "version_minor": 0
      },
      "text/plain": [
       "NGLWidget()"
      ]
     },
     "metadata": {},
     "output_type": "display_data"
    }
   ],
   "source": [
    "\n",
    "pdbid = \"3POZ\" # EGFR kinase domain\n",
    "ligand_name = \"03P\"\n",
    "# check the complex structure\n",
    "complex_path = str(result_dir / f\"{pdbid}_{ligand_name}_complex.pdb\")\n",
    "complex_view = nv.show_structure_file(complex_path)\n",
    "complex_view.add_representation(\"ball+stick\", selection=\"not protein\")\n",
    "complex_view.add_representation(\"cartoon\", selection=\"protein\")\n",
    "complex_view.add_representation(\"licorice\", selection=\"water\")\n",
    "complex_view.add_representation(\"unitcell\")\n",
    "complex_view.camera = \"orthographic\"\n",
    "complex_view"
   ]
  },
  {
   "cell_type": "code",
   "execution_count": 4,
   "metadata": {},
   "outputs": [],
   "source": [
    "# Load the complex structure using OpenMM\n",
    "complex_pdb = app.PDBFile(complex_path)\n",
    "complex_topology, complex_positions = complex_pdb.topology, complex_pdb.positions\n"
   ]
  },
  {
   "cell_type": "markdown",
   "metadata": {},
   "source": [
    "### Force field\n",
    "* Common force fields like AMBER have parameters for amino acids, nucleic acids, water and ions and usually offer several options to choose from depending on your aim. \n",
    "* We use the amber14-all.xml force field file, which is shipped with OpenMM and includes parameters for proteins, DNA, RNA and lipids. For solvation we use the standard three-site water model TIP3P.\n",
    "\n",
    "* Parameters for ligands however are not included. To generate these parameters, we can use the General AMBER ForceField (GAFF), which is implemented in the Python package OpenMM Forcefields. The following function generates a force field object holding standard AMBER parameters and additionally includes parameters for a small molecule if required."
   ]
  },
  {
   "cell_type": "code",
   "execution_count": 5,
   "metadata": {},
   "outputs": [],
   "source": [
    "def generate_forcefield(\n",
    "    rdkit_mol=None, protein_ff=\"amber14-all.xml\", solvent_ff=\"amber14/tip3pfb.xml\"\n",
    "):\n",
    "    \"\"\"\n",
    "    Generate an OpenMM Forcefield object and register a small molecule.\n",
    "\n",
    "    Parameters\n",
    "    ----------\n",
    "    rdkit_mol: rdkit.Chem.rdchem.Mol\n",
    "        Small molecule to register in the force field.\n",
    "    protein_ff: string\n",
    "        Name of the force field.\n",
    "    solvent_ff: string\n",
    "        Name of the solvent force field.\n",
    "\n",
    "    Returns\n",
    "    -------\n",
    "    forcefield: openmm.app.Forcefield\n",
    "        Forcefield with registered small molecule.\n",
    "    \"\"\"\n",
    "    forcefield = app.ForceField(protein_ff, solvent_ff)\n",
    "\n",
    "    if rdkit_mol is not None:\n",
    "        gaff = GAFFTemplateGenerator(\n",
    "            molecules=Molecule.from_rdkit(rdkit_mol, allow_undefined_stereo=True)\n",
    "        )\n",
    "        forcefield.registerTemplateGenerator(gaff.generator)\n",
    "\n",
    "    return forcefield"
   ]
  },
  {
   "cell_type": "code",
   "execution_count": 6,
   "metadata": {},
   "outputs": [],
   "source": [
    "rcsb_ligand = Chem.MolFromMolFile(str(result_dir / f\"{ligand_name}_prepared.mol\"))\n",
    "forcefield = generate_forcefield(rcsb_ligand)"
   ]
  },
  {
   "cell_type": "code",
   "execution_count": 7,
   "metadata": {},
   "outputs": [
    {
     "data": {
      "image/png": "[encoded data removed]",
      "text/plain": [
       "<rdkit.Chem.rdchem.Mol at 0x712dfe0403c0>"
      ]
     },
     "execution_count": 7,
     "metadata": {},
     "output_type": "execute_result"
    }
   ],
   "source": [
    "rcsb_ligand"
   ]
  },
  {
   "cell_type": "markdown",
   "metadata": {},
   "source": [
    "### Create a system\n",
    "* a simulation box which contains the complex and is filled with a solvent.\n",
    "* The standard solvent is water with a specified amount of ions\n",
    "* We define it with a padding, which results in a cubic box with dimensions dependent on the largest dimension of the complex."
   ]
  },
  {
   "cell_type": "code",
   "execution_count": 8,
   "metadata": {},
   "outputs": [
    {
     "name": "stderr",
     "output_type": "stream",
     "text": [
      "/bin/bash: /home/hyunsu/miniconda3/envs/openmm/lib/libtinfo.so.6: no version information available (required by /bin/bash)\n",
      "/bin/bash: /home/hyunsu/miniconda3/envs/openmm/lib/libtinfo.so.6: no version information available (required by /bin/bash)\n",
      "/bin/bash: /home/hyunsu/miniconda3/envs/openmm/lib/libtinfo.so.6: no version information available (required by /bin/bash)\n",
      "/bin/bash: /home/hyunsu/miniconda3/envs/openmm/lib/libtinfo.so.6: no version information available (required by /bin/bash)\n",
      "/bin/bash: /home/hyunsu/miniconda3/envs/openmm/lib/libtinfo.so.6: no version information available (required by /bin/bash)\n",
      "/bin/bash: /home/hyunsu/miniconda3/envs/openmm/lib/libtinfo.so.6: no version information available (required by /bin/bash)\n"
     ]
    }
   ],
   "source": [
    "modeller = app.Modeller(complex_topology, complex_positions)\n",
    "modeller.addSolvent(forcefield, padding=1.0 * unit.nanometers, ionicStrength=0.15 * unit.molar)"
   ]
  },
  {
   "cell_type": "code",
   "execution_count": 9,
   "metadata": {},
   "outputs": [],
   "source": [
    "with open(str(result_dir / f\"{pdbid}_{ligand_name}_solvated.pdb\"), \"w\") as f:\n",
    "    app.PDBFile.writeFile(modeller.topology, modeller.positions, f)"
   ]
  },
  {
   "cell_type": "code",
   "execution_count": 10,
   "metadata": {},
   "outputs": [
    {
     "name": "stdout",
     "output_type": "stream",
     "text": [
      "Complex topology has 52862 atoms.\n"
     ]
    }
   ],
   "source": [
    "print(\"Complex topology has\", modeller.topology.getNumAtoms(), \"atoms.\")"
   ]
  },
  {
   "cell_type": "code",
   "execution_count": null,
   "metadata": {},
   "outputs": [],
   "source": []
  },
  {
   "cell_type": "code",
   "execution_count": null,
   "metadata": {},
   "outputs": [],
   "source": []
  },
  {
   "cell_type": "code",
   "execution_count": null,
   "metadata": {},
   "outputs": [],
   "source": []
  },
  {
   "cell_type": "code",
   "execution_count": null,
   "metadata": {},
   "outputs": [],
   "source": []
  }
 ],
 "metadata": {
  "kernelspec": {
   "display_name": "openmm",
   "language": "python",
   "name": "python3"
  },
  "language_info": {
   "codemirror_mode": {
    "name": "ipython",
    "version": 3
   },
   "file_extension": ".py",
   "mimetype": "text/x-python",
   "name": "python",
   "nbconvert_exporter": "python",
   "pygments_lexer": "ipython3",
   "version": "3.10.13"
  }
 },
 "nbformat": 4,
 "nbformat_minor": 2
}
