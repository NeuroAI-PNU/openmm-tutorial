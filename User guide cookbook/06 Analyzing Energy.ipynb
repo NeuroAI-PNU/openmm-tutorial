{
 "cells": [
  {
   "cell_type": "markdown",
   "metadata": {},
   "source": [
    "## Analyzing Energy Contributions\n",
    "* https://openmm.github.io/openmm-cookbook/latest/notebooks/cookbook/Analyzing%20Energy%20Contributions.html\n",
    "* Decompose the energy of a system into separate components.\n",
    "    * bonds, angles, torsions, non-bonded interactions, etc.\n"
   ]
  },
  {
   "cell_type": "code",
   "execution_count": 1,
   "metadata": {},
   "outputs": [],
   "source": [
    "from openmm.app import *\n",
    "from openmm import *\n",
    "from openmm.unit import *"
   ]
  },
  {
   "cell_type": "code",
   "execution_count": 2,
   "metadata": {},
   "outputs": [],
   "source": [
    "ala_pdb = PDBFile('./data/ala_ala_ala.pdb')\n",
    "forcefield = ForceField('amber14-all.xml')\n",
    "system = forcefield.createSystem(ala_pdb.topology)"
   ]
  },
  {
   "cell_type": "markdown",
   "metadata": {},
   "source": [
    "* Since openmm does not provide a built-in way to calculate the energy of a single component.\n",
    "* but can query the energy of a force group.\n",
    "* We need each Force object to be assigned to a different force group."
   ]
  },
  {
   "cell_type": "code",
   "execution_count": 5,
   "metadata": {},
   "outputs": [
    {
     "name": "stdout",
     "output_type": "stream",
     "text": [
      "0 HarmonicBondForce\n",
      "1 PeriodicTorsionForce\n",
      "2 NonbondedForce\n",
      "3 CMMotionRemover\n",
      "4 HarmonicAngleForce\n"
     ]
    }
   ],
   "source": [
    "for i, f in enumerate(system.getForces()):\n",
    "    print(i, f.__class__.__name__)\n",
    "    f.setForceGroup(i)"
   ]
  },
  {
   "cell_type": "code",
   "execution_count": 6,
   "metadata": {},
   "outputs": [],
   "source": [
    "integrator = LangevinIntegrator(300*kelvin, 1/picosecond, 0.004*picoseconds)\n",
    "platform = Platform.getPlatformByName('CUDA')\n",
    "simulation = Simulation(ala_pdb.topology, system, integrator, platform)\n",
    "simulation.context.setPositions(ala_pdb.positions)"
   ]
  },
  {
   "cell_type": "markdown",
   "metadata": {},
   "source": [
    "* We can use \"Context.getState(getEnergy=True, groups={force_group})\" to get the energy of a single component.\n"
   ]
  },
  {
   "cell_type": "code",
   "execution_count": 7,
   "metadata": {},
   "outputs": [
    {
     "name": "stdout",
     "output_type": "stream",
     "text": [
      "HarmonicBondForce 18.088199615478516 kJ/mol\n",
      "PeriodicTorsionForce 84.3203125 kJ/mol\n",
      "NonbondedForce -130.9884033203125 kJ/mol\n",
      "CMMotionRemover 0.0 kJ/mol\n",
      "HarmonicAngleForce 70.43386840820312 kJ/mol\n"
     ]
    }
   ],
   "source": [
    "for i, f in enumerate(system.getForces()):\n",
    "    state = simulation.context.getState(getEnergy=True, groups={i})\n",
    "    print(f.getName(), state.getPotentialEnergy())"
   ]
  },
  {
   "cell_type": "code",
   "execution_count": 8,
   "metadata": {},
   "outputs": [],
   "source": [
    "merged_H_pdb = PDBFile('./results/merged_H.pdb')\n",
    "forcefield = ForceField('amber14-all.xml', 'amber14/tip3pfb.xml')\n",
    "system = forcefield.createSystem(merged_H_pdb.topology)"
   ]
  },
  {
   "cell_type": "code",
   "execution_count": 10,
   "metadata": {},
   "outputs": [
    {
     "name": "stdout",
     "output_type": "stream",
     "text": [
      "0 HarmonicBondForce\n",
      "1 NonbondedForce\n",
      "2 PeriodicTorsionForce\n",
      "3 CMMotionRemover\n",
      "4 HarmonicAngleForce\n"
     ]
    }
   ],
   "source": [
    "for i, f in enumerate(system.getForces()):\n",
    "    print(i, f.getName())\n",
    "    f.setForceGroup(i)"
   ]
  },
  {
   "cell_type": "code",
   "execution_count": 13,
   "metadata": {},
   "outputs": [],
   "source": [
    "integrator = LangevinIntegrator(300*kelvin, 1/picosecond, 0.004*picoseconds)\n",
    "\n",
    "simulation = Simulation(merged_H_pdb.topology, system, integrator, platform)\n",
    "simulation.context.setPositions(merged_H_pdb.positions)"
   ]
  },
  {
   "cell_type": "code",
   "execution_count": 14,
   "metadata": {},
   "outputs": [
    {
     "name": "stdout",
     "output_type": "stream",
     "text": [
      "HarmonicBondForce 560.353141784668 kJ/mol\n",
      "NonbondedForce 53661662.3873291 kJ/mol\n",
      "PeriodicTorsionForce 1980.8448181152344 kJ/mol\n",
      "CMMotionRemover 0.0 kJ/mol\n",
      "HarmonicAngleForce 1332.1212158203125 kJ/mol\n"
     ]
    }
   ],
   "source": [
    "for i, f in enumerate(system.getForces()):\n",
    "    state = simulation.context.getState(getEnergy=True, groups={i})\n",
    "    print(f.getName(), state.getPotentialEnergy())"
   ]
  },
  {
   "cell_type": "code",
   "execution_count": null,
   "metadata": {},
   "outputs": [],
   "source": []
  },
  {
   "cell_type": "code",
   "execution_count": null,
   "metadata": {},
   "outputs": [],
   "source": []
  },
  {
   "cell_type": "code",
   "execution_count": null,
   "metadata": {},
   "outputs": [],
   "source": []
  },
  {
   "cell_type": "code",
   "execution_count": null,
   "metadata": {},
   "outputs": [],
   "source": []
  },
  {
   "cell_type": "code",
   "execution_count": null,
   "metadata": {},
   "outputs": [],
   "source": []
  }
 ],
 "metadata": {
  "kernelspec": {
   "display_name": "openmm",
   "language": "python",
   "name": "python3"
  },
  "language_info": {
   "codemirror_mode": {
    "name": "ipython",
    "version": 3
   },
   "file_extension": ".py",
   "mimetype": "text/x-python",
   "name": "python",
   "nbconvert_exporter": "python",
   "pygments_lexer": "ipython3",
   "version": "3.10.13"
  }
 },
 "nbformat": 4,
 "nbformat_minor": 2
}
